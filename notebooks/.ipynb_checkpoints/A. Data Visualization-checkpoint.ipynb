{
 "cells": [
  {
   "cell_type": "markdown",
   "id": "41249cc0-9e26-46c4-8f60-e80489a5aa17",
   "metadata": {
    "tags": []
   },
   "source": [
    "# Data Visualization\n",
    "The UnderspecificationAnalysis package contains methods that help to diagnose and illustrate potential model underspecification. This notebook demonstrates how to use this package along side a breast cancer subtyping dataset from METABRIC.  "
   ]
  },
  {
   "cell_type": "code",
   "execution_count": 3,
   "id": "e70a6dcc-e5c7-409d-8066-25716f316966",
   "metadata": {},
   "outputs": [
    {
     "name": "stdout",
     "output_type": "stream",
     "text": [
      "The autoreload extension is already loaded. To reload it, use:\n",
      "  %reload_ext autoreload\n"
     ]
    }
   ],
   "source": [
    "%load_ext autoreload\n",
    "%autoreload 2"
   ]
  },
  {
   "cell_type": "markdown",
   "id": "87675be8-6f14-4551-8c06-0552cbca9c90",
   "metadata": {
    "tags": []
   },
   "source": [
    "## Imports\n",
    "Importing necessary libraries for processing the sample dataset and importing the UnderspecificationAnalysis class."
   ]
  },
  {
   "cell_type": "code",
   "execution_count": 4,
   "id": "a3559bc7-8e5a-4ba8-b948-c9da67e436c0",
   "metadata": {},
   "outputs": [],
   "source": [
    "import warnings\n",
    "warnings.filterwarnings('ignore')"
   ]
  },
  {
   "cell_type": "code",
   "execution_count": 10,
   "id": "aabe2c01-2544-44da-b999-6f67f53f8d9d",
   "metadata": {},
   "outputs": [
    {
     "name": "stdout",
     "output_type": "stream",
     "text": [
      "Imported preinstalled pump\n"
     ]
    }
   ],
   "source": [
    "#@title Includes and Dependencies\n",
    "from IPython.display import display, Markdown, Latex\n",
    "try:\n",
    "    import pump\n",
    "    from pump.underspecification import PUMP\n",
    "    print('Imported preinstalled pump')\n",
    "except:\n",
    "    import sys\n",
    "    sys.path.insert(0,\"../..\") \n",
    "    import pump\n",
    "    from pump.underspecification import PUMP\n",
    "    print('Imported ../.. pump')"
   ]
  },
  {
   "cell_type": "code",
   "execution_count": 11,
   "id": "fd30453b-757f-431d-bcb0-3c05c906ee01",
   "metadata": {},
   "outputs": [],
   "source": [
    "import pandas as pd"
   ]
  },
  {
   "cell_type": "markdown",
   "id": "f8badc5b-62b4-4432-8248-011a107900f7",
   "metadata": {},
   "source": [
    "## Data Processing\n",
    "Loading and pre-processing the lung cancer diagnosis dataset from TCGA. The labels were manually added in prior to loading into this notebook, so the method to extract the labels is not traditional. We also want to make sure all entries are valid, so we need the complete dataset Xy along with the separate X and y for later use."
   ]
  },
  {
   "cell_type": "code",
   "execution_count": 24,
   "id": "635339b7-5dc6-497b-b7e2-2fb537f0c0f1",
   "metadata": {},
   "outputs": [
    {
     "data": {
      "text/plain": [
       "<pump.data.Session at 0x7fb118a58c10>"
      ]
     },
     "execution_count": 24,
     "metadata": {},
     "output_type": "execute_result"
    }
   ],
   "source": [
    "sess = pump.data.create_small_metabric_session()\n",
    "sess"
   ]
  },
  {
   "cell_type": "code",
   "execution_count": 31,
   "id": "08fd2639-2653-4551-859f-a9f21f0fc01d",
   "metadata": {},
   "outputs": [
    {
     "data": {
      "image/png": "[encoded data removed]",
      "text/plain": [
       "<Figure size 432x288 with 1 Axes>"
      ]
     },
     "metadata": {
      "needs_background": "light"
     },
     "output_type": "display_data"
    }
   ],
   "source": [
    "sess.y().value_counts().plot.bar();"
   ]
  }
 ],
 "metadata": {
  "kernelspec": {
   "display_name": "Python 3 (ipykernel)",
   "language": "python",
   "name": "python3"
  },
  "language_info": {
   "codemirror_mode": {
    "name": "ipython",
    "version": 3
   },
   "file_extension": ".py",
   "mimetype": "text/x-python",
   "name": "python",
   "nbconvert_exporter": "python",
   "pygments_lexer": "ipython3",
   "version": "3.9.7"
  }
 },
 "nbformat": 4,
 "nbformat_minor": 5
}
