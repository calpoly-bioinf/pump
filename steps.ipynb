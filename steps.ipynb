{
 "cells": [
  {
   "cell_type": "code",
   "execution_count": 2,
   "id": "1bd2b35e-e2cd-411a-8b0b-a03347b66f2d",
   "metadata": {},
   "outputs": [],
   "source": [
    "%load_ext autoreload\n",
    "%autoreload 2"
   ]
  },
  {
   "cell_type": "markdown",
   "id": "a24329ac-8206-4ff9-a690-9aa3a1c78bfd",
   "metadata": {},
   "source": [
    "## Imports and Installations"
   ]
  },
  {
   "cell_type": "code",
   "execution_count": 3,
   "id": "f63d3a7c-a101-475a-a053-51cf8065456b",
   "metadata": {},
   "outputs": [],
   "source": [
    "import pandas as pd"
   ]
  },
  {
   "cell_type": "code",
   "execution_count": 4,
   "id": "afd3c507-b8d8-4eda-8bf5-aa4d101191cd",
   "metadata": {},
   "outputs": [
    {
     "name": "stderr",
     "output_type": "stream",
     "text": [
      "2022-10-25 16:45:46.578246: W tensorflow/stream_executor/platform/default/dso_loader.cc:64] Could not load dynamic library 'libcudart.so.11.0'; dlerror: libcudart.so.11.0: cannot open shared object file: No such file or directory\n",
      "2022-10-25 16:45:46.578281: I tensorflow/stream_executor/cuda/cudart_stub.cc:29] Ignore above cudart dlerror if you do not have a GPU set up on your machine.\n"
     ]
    }
   ],
   "source": [
    "from underspecification import UnderspecificationAnalysis"
   ]
  },
  {
   "cell_type": "markdown",
   "id": "47a6deba-297f-48eb-b9a3-8772e597c107",
   "metadata": {},
   "source": [
    "## Gather and Process Data"
   ]
  },
  {
   "cell_type": "code",
   "execution_count": 5,
   "id": "bf662488-9696-4b67-82e0-3f27b4f43b8c",
   "metadata": {},
   "outputs": [
    {
     "data": {
      "text/html": [
       "<div>\n",
       "<style scoped>\n",
       "    .dataframe tbody tr th:only-of-type {\n",
       "        vertical-align: middle;\n",
       "    }\n",
       "\n",
       "    .dataframe tbody tr th {\n",
       "        vertical-align: top;\n",
       "    }\n",
       "\n",
       "    .dataframe thead th {\n",
       "        text-align: right;\n",
       "    }\n",
       "</style>\n",
       "<table border=\"1\" class=\"dataframe\">\n",
       "  <thead>\n",
       "    <tr style=\"text-align: right;\">\n",
       "      <th></th>\n",
       "      <th>A1CF</th>\n",
       "      <th>A2M</th>\n",
       "      <th>A2ML1</th>\n",
       "      <th>A4GALT</th>\n",
       "      <th>A4GNT</th>\n",
       "      <th>AAAS</th>\n",
       "      <th>AACS</th>\n",
       "      <th>AACSP1</th>\n",
       "      <th>AADAC</th>\n",
       "      <th>AADACL2</th>\n",
       "      <th>...</th>\n",
       "      <th>ZWILCH</th>\n",
       "      <th>ZWINT</th>\n",
       "      <th>ZXDA</th>\n",
       "      <th>ZXDB</th>\n",
       "      <th>ZXDC</th>\n",
       "      <th>ZYG11A</th>\n",
       "      <th>ZYG11B</th>\n",
       "      <th>ZYX</th>\n",
       "      <th>ZZEF1</th>\n",
       "      <th>ZZZ3</th>\n",
       "    </tr>\n",
       "    <tr>\n",
       "      <th>Sample ID</th>\n",
       "      <th></th>\n",
       "      <th></th>\n",
       "      <th></th>\n",
       "      <th></th>\n",
       "      <th></th>\n",
       "      <th></th>\n",
       "      <th></th>\n",
       "      <th></th>\n",
       "      <th></th>\n",
       "      <th></th>\n",
       "      <th></th>\n",
       "      <th></th>\n",
       "      <th></th>\n",
       "      <th></th>\n",
       "      <th></th>\n",
       "      <th></th>\n",
       "      <th></th>\n",
       "      <th></th>\n",
       "      <th></th>\n",
       "      <th></th>\n",
       "      <th></th>\n",
       "    </tr>\n",
       "  </thead>\n",
       "  <tbody>\n",
       "    <tr>\n",
       "      <th>MB-0362</th>\n",
       "      <td>0.121975</td>\n",
       "      <td>0.215056</td>\n",
       "      <td>0.137268</td>\n",
       "      <td>0.319299</td>\n",
       "      <td>0.299318</td>\n",
       "      <td>0.379480</td>\n",
       "      <td>0.412660</td>\n",
       "      <td>0.361855</td>\n",
       "      <td>0.101269</td>\n",
       "      <td>0.172184</td>\n",
       "      <td>...</td>\n",
       "      <td>0.221594</td>\n",
       "      <td>0.299784</td>\n",
       "      <td>0.362357</td>\n",
       "      <td>0.225769</td>\n",
       "      <td>0.367554</td>\n",
       "      <td>0.132938</td>\n",
       "      <td>0.328175</td>\n",
       "      <td>0.573906</td>\n",
       "      <td>0.539070</td>\n",
       "      <td>0.147249</td>\n",
       "    </tr>\n",
       "    <tr>\n",
       "      <th>MB-0346</th>\n",
       "      <td>0.192559</td>\n",
       "      <td>0.042307</td>\n",
       "      <td>0.204485</td>\n",
       "      <td>0.103171</td>\n",
       "      <td>0.315292</td>\n",
       "      <td>0.391824</td>\n",
       "      <td>0.544226</td>\n",
       "      <td>0.372350</td>\n",
       "      <td>0.087123</td>\n",
       "      <td>0.164404</td>\n",
       "      <td>...</td>\n",
       "      <td>0.156303</td>\n",
       "      <td>0.516268</td>\n",
       "      <td>0.489675</td>\n",
       "      <td>0.363120</td>\n",
       "      <td>0.457905</td>\n",
       "      <td>0.155936</td>\n",
       "      <td>0.121523</td>\n",
       "      <td>0.483270</td>\n",
       "      <td>0.411438</td>\n",
       "      <td>0.224434</td>\n",
       "    </tr>\n",
       "    <tr>\n",
       "      <th>MB-0386</th>\n",
       "      <td>0.129016</td>\n",
       "      <td>0.302035</td>\n",
       "      <td>0.104212</td>\n",
       "      <td>0.478857</td>\n",
       "      <td>0.307694</td>\n",
       "      <td>0.265761</td>\n",
       "      <td>0.191160</td>\n",
       "      <td>0.214396</td>\n",
       "      <td>0.124491</td>\n",
       "      <td>0.135946</td>\n",
       "      <td>...</td>\n",
       "      <td>0.167134</td>\n",
       "      <td>0.210737</td>\n",
       "      <td>0.420390</td>\n",
       "      <td>0.164456</td>\n",
       "      <td>0.268026</td>\n",
       "      <td>0.169930</td>\n",
       "      <td>0.358189</td>\n",
       "      <td>0.616131</td>\n",
       "      <td>0.515510</td>\n",
       "      <td>0.124535</td>\n",
       "    </tr>\n",
       "    <tr>\n",
       "      <th>MB-0574</th>\n",
       "      <td>0.186569</td>\n",
       "      <td>0.204583</td>\n",
       "      <td>0.084922</td>\n",
       "      <td>0.155657</td>\n",
       "      <td>0.259502</td>\n",
       "      <td>0.225779</td>\n",
       "      <td>0.276242</td>\n",
       "      <td>0.363504</td>\n",
       "      <td>0.156255</td>\n",
       "      <td>0.174428</td>\n",
       "      <td>...</td>\n",
       "      <td>0.177223</td>\n",
       "      <td>0.211609</td>\n",
       "      <td>0.669651</td>\n",
       "      <td>0.530200</td>\n",
       "      <td>0.548744</td>\n",
       "      <td>0.054719</td>\n",
       "      <td>0.364991</td>\n",
       "      <td>0.480279</td>\n",
       "      <td>0.564949</td>\n",
       "      <td>0.158037</td>\n",
       "    </tr>\n",
       "    <tr>\n",
       "      <th>MB-0185</th>\n",
       "      <td>0.110777</td>\n",
       "      <td>0.337835</td>\n",
       "      <td>0.133802</td>\n",
       "      <td>0.265908</td>\n",
       "      <td>0.555257</td>\n",
       "      <td>0.349347</td>\n",
       "      <td>0.222268</td>\n",
       "      <td>0.381949</td>\n",
       "      <td>0.058114</td>\n",
       "      <td>0.111793</td>\n",
       "      <td>...</td>\n",
       "      <td>0.382424</td>\n",
       "      <td>0.450318</td>\n",
       "      <td>0.644640</td>\n",
       "      <td>0.280082</td>\n",
       "      <td>0.305045</td>\n",
       "      <td>0.135671</td>\n",
       "      <td>0.259829</td>\n",
       "      <td>0.531486</td>\n",
       "      <td>0.503557</td>\n",
       "      <td>0.165486</td>\n",
       "    </tr>\n",
       "  </tbody>\n",
       "</table>\n",
       "<p>5 rows × 19083 columns</p>\n",
       "</div>"
      ],
      "text/plain": [
       "               A1CF       A2M     A2ML1    A4GALT     A4GNT      AAAS  \\\n",
       "Sample ID                                                               \n",
       "MB-0362    0.121975  0.215056  0.137268  0.319299  0.299318  0.379480   \n",
       "MB-0346    0.192559  0.042307  0.204485  0.103171  0.315292  0.391824   \n",
       "MB-0386    0.129016  0.302035  0.104212  0.478857  0.307694  0.265761   \n",
       "MB-0574    0.186569  0.204583  0.084922  0.155657  0.259502  0.225779   \n",
       "MB-0185    0.110777  0.337835  0.133802  0.265908  0.555257  0.349347   \n",
       "\n",
       "               AACS    AACSP1     AADAC   AADACL2  ...    ZWILCH     ZWINT  \\\n",
       "Sample ID                                          ...                       \n",
       "MB-0362    0.412660  0.361855  0.101269  0.172184  ...  0.221594  0.299784   \n",
       "MB-0346    0.544226  0.372350  0.087123  0.164404  ...  0.156303  0.516268   \n",
       "MB-0386    0.191160  0.214396  0.124491  0.135946  ...  0.167134  0.210737   \n",
       "MB-0574    0.276242  0.363504  0.156255  0.174428  ...  0.177223  0.211609   \n",
       "MB-0185    0.222268  0.381949  0.058114  0.111793  ...  0.382424  0.450318   \n",
       "\n",
       "               ZXDA      ZXDB      ZXDC    ZYG11A    ZYG11B       ZYX  \\\n",
       "Sample ID                                                               \n",
       "MB-0362    0.362357  0.225769  0.367554  0.132938  0.328175  0.573906   \n",
       "MB-0346    0.489675  0.363120  0.457905  0.155936  0.121523  0.483270   \n",
       "MB-0386    0.420390  0.164456  0.268026  0.169930  0.358189  0.616131   \n",
       "MB-0574    0.669651  0.530200  0.548744  0.054719  0.364991  0.480279   \n",
       "MB-0185    0.644640  0.280082  0.305045  0.135671  0.259829  0.531486   \n",
       "\n",
       "              ZZEF1      ZZZ3  \n",
       "Sample ID                      \n",
       "MB-0362    0.539070  0.147249  \n",
       "MB-0346    0.411438  0.224434  \n",
       "MB-0386    0.515510  0.124535  \n",
       "MB-0574    0.564949  0.158037  \n",
       "MB-0185    0.503557  0.165486  \n",
       "\n",
       "[5 rows x 19083 columns]"
      ]
     },
     "execution_count": 5,
     "metadata": {},
     "output_type": "execute_result"
    }
   ],
   "source": [
    "X = pd.read_csv('/large/metabric/expression_with_gene_ids_min_max_no_pam50.csv.gz')\n",
    "X.set_index('Sample ID',inplace=True)\n",
    "X.head()"
   ]
  },
  {
   "cell_type": "code",
   "execution_count": 6,
   "id": "2e5148db-2514-4b60-adf2-3689c9ba79b7",
   "metadata": {},
   "outputs": [
    {
     "data": {
      "text/plain": [
       "Sample ID\n",
       "MB-0000    claudin-low\n",
       "MB-0002           LumA\n",
       "MB-0005           LumB\n",
       "MB-0006           LumB\n",
       "MB-0008           LumB\n",
       "Name: Pam50 + Claudin-low subtype, dtype: object"
      ]
     },
     "execution_count": 6,
     "metadata": {},
     "output_type": "execute_result"
    }
   ],
   "source": [
    "df = pd.read_csv('brca_metabric_clinical_data.tsv',sep='\\t')\n",
    "# df.set_index('Sample ID')[['Pam50 + Claudin-low subtype']].to_csv('data/metabric/pam50_claudinlow_subtype.csv')\n",
    "df = df.loc[df['Pam50 + Claudin-low subtype']!='NC']\n",
    "df.set_index('Sample ID',inplace=True)\n",
    "y = df['Pam50 + Claudin-low subtype']\n",
    "y.head()"
   ]
  },
  {
   "cell_type": "code",
   "execution_count": 7,
   "id": "be2b86cc-2f40-4841-952b-c19a75aa4e0b",
   "metadata": {},
   "outputs": [],
   "source": [
    "Xy = X.join(y).dropna()\n",
    "X = Xy.drop(['Pam50 + Claudin-low subtype'], axis=1)\n",
    "y = Xy['Pam50 + Claudin-low subtype']"
   ]
  },
  {
   "cell_type": "markdown",
   "id": "eb9dfca6-d0a0-42b0-b461-200edbc7569d",
   "metadata": {},
   "source": [
    "## Analyze Underspecification"
   ]
  },
  {
   "cell_type": "code",
   "execution_count": 8,
   "id": "cfed564d-ce8f-416f-b43d-f2b82c1d75e5",
   "metadata": {},
   "outputs": [],
   "source": [
    "ua = UnderspecificationAnalysis(output_dir='data')"
   ]
  },
  {
   "cell_type": "code",
   "execution_count": 9,
   "id": "58981b12-56d3-4e60-acb7-fe7131f10a8b",
   "metadata": {},
   "outputs": [
    {
     "name": "stdout",
     "output_type": "stream",
     "text": [
      "Running PCA Analysis ...\n",
      "Running K-means Analysis ...\n",
      "Writing Cluster Analysis ...\n",
      "-----[ COMPLETE ]-----\n",
      "Check /data/data_analysis for the results.\n"
     ]
    },
    {
     "data": {
      "image/png": "[encoded data removed]",
      "text/plain": [
       "<Figure size 432x288 with 1 Axes>"
      ]
     },
     "metadata": {
      "needs_background": "light"
     },
     "output_type": "display_data"
    }
   ],
   "source": [
    "Xy_filtered = ua.analyze_dataset(X, y, subdirectory='data_analysis', cluster_focus='Her2')"
   ]
  },
  {
   "cell_type": "code",
   "execution_count": 10,
   "id": "0219d7ec-fa80-41da-a390-12942c4fee2a",
   "metadata": {},
   "outputs": [
    {
     "name": "stdout",
     "output_type": "stream",
     "text": [
      "Creating shifted sets ...\n",
      "Writing out sets ...\n",
      "-----[ COMPLETE ]-----\n",
      "Check /data/indices for the results.\n"
     ]
    }
   ],
   "source": [
    "ua.create_clustering_shifted_datasets(X, y, Xy_filtered, \n",
    "                                      num_clusters=3, \n",
    "                                      split_ratio=[0.7,0.1,0.2],\n",
    "                                      cluster_focus='Her2', \n",
    "                                      subdirectory='indices', \n",
    "                                      num_shifted_sets=50\n",
    ")"
   ]
  },
  {
   "cell_type": "code",
   "execution_count": 13,
   "id": "c2a948d7-5e98-4fd1-be1a-135e29887661",
   "metadata": {},
   "outputs": [
    {
     "name": "stdout",
     "output_type": "stream",
     "text": [
      "Evaluating models ...\n",
      "    Evaluating: data/indices/1,True/index_df_14.csv\n",
      "    Evaluating: data/indices/1,True/index_df_46.csv\n",
      "    Evaluating: data/indices/1,True/index_df_49.csv\n",
      "    Evaluating: data/indices/1,True/index_df_6.csv\n",
      "    Evaluating: data/indices/1,True/index_df_11.csv\n",
      "    Evaluating: data/indices/1,True/index_df_9.csv\n",
      "    Evaluating: data/indices/1,True/index_df_30.csv\n",
      "    Evaluating: data/indices/1,True/index_df_34.csv\n",
      "    Evaluating: data/indices/1,True/index_df_47.csv\n",
      "    Evaluating: data/indices/1,True/index_df_28.csv\n",
      "    Evaluating: data/indices/1,True/index_df_3.csv\n",
      "    Evaluating: data/indices/1,True/index_df_17.csv\n",
      "    Evaluating: data/indices/1,True/index_df_41.csv\n",
      "    Evaluating: data/indices/1,True/index_df_31.csv\n",
      "    Evaluating: data/indices/1,True/index_df_45.csv\n",
      "    Evaluating: data/indices/1,True/index_df_32.csv\n",
      "    Evaluating: data/indices/1,True/index_df_18.csv\n",
      "    Evaluating: data/indices/1,True/index_df_36.csv\n",
      "    Evaluating: data/indices/1,True/index_df_21.csv\n",
      "    Evaluating: data/indices/1,True/index_df_20.csv\n",
      "    Evaluating: data/indices/1,True/index_df_16.csv\n",
      "    Evaluating: data/indices/1,True/index_df_15.csv\n",
      "    Evaluating: data/indices/1,True/index_df_1.csv\n"
     ]
    },
    {
     "ename": "KeyboardInterrupt",
     "evalue": "",
     "output_type": "error",
     "traceback": [
      "\u001b[0;31m---------------------------------------------------------------------------\u001b[0m",
      "\u001b[0;31mKeyboardInterrupt\u001b[0m                         Traceback (most recent call last)",
      "Input \u001b[0;32mIn [13]\u001b[0m, in \u001b[0;36m<cell line: 1>\u001b[0;34m()\u001b[0m\n\u001b[0;32m----> 1\u001b[0m \u001b[43mua\u001b[49m\u001b[38;5;241;43m.\u001b[39;49m\u001b[43mevaluate_shifted_sets\u001b[49m\u001b[43m(\u001b[49m\u001b[43mX\u001b[49m\u001b[43m,\u001b[49m\u001b[43m \u001b[49m\u001b[43my\u001b[49m\u001b[43m,\u001b[49m\u001b[43m \u001b[49m\u001b[43msubdirectory\u001b[49m\u001b[38;5;241;43m=\u001b[39;49m\u001b[38;5;124;43m'\u001b[39;49m\u001b[38;5;124;43mresults\u001b[39;49m\u001b[38;5;124;43m'\u001b[39;49m\u001b[43m,\u001b[49m\u001b[43m \u001b[49m\u001b[43mrandom_state\u001b[49m\u001b[38;5;241;43m=\u001b[39;49m\u001b[38;5;241;43m0\u001b[39;49m\u001b[43m)\u001b[49m\n",
      "File \u001b[0;32m~/underspecification/under_pipe/underspecification.py:330\u001b[0m, in \u001b[0;36mUnderspecificationAnalysis.evaluate_shifted_sets\u001b[0;34m(self, X, y, subdirectory, random_state)\u001b[0m\n\u001b[1;32m    328\u001b[0m seed = file.split(\"_\")[-1]\n\u001b[1;32m    329\u001b[0m seed = int(seed[:len(seed)-4])\n\u001b[0;32m--> 330\u001b[0m # svm_results = pd.concat([svm_results, self.svm_performance(Xtrain, ytrain, sets['Xtest'], sets['ytest'], key, seed)])\n\u001b[1;32m    331\u001b[0m rf_results = pd.concat([rf_results, self.rf_performance(Xtrain, ytrain, sets['Xtest'], sets['ytest'], key, seed)])\n\u001b[1;32m    332\u001b[0m # nn_results = pd.concat([nn_results, self.nn_performance(Xtrain, ytrain, sets['Xtest'], sets['ytest'], key, seed)])\n",
      "File \u001b[0;32m~/underspecification/under_pipe/underspecification.py:298\u001b[0m, in \u001b[0;36mUnderspecificationAnalysis.svm_performance\u001b[0;34m(self, Xtrain, ytrain, Xtest, ytest, key, seed)\u001b[0m\n\u001b[1;32m    296\u001b[0m \u001b[38;5;28;01mdef\u001b[39;00m \u001b[38;5;21msvm_performance\u001b[39m(\u001b[38;5;28mself\u001b[39m, Xtrain, ytrain, Xtest, ytest, key, seed):\n\u001b[1;32m    297\u001b[0m     clf \u001b[38;5;241m=\u001b[39m svm\u001b[38;5;241m.\u001b[39mSVC(kernel\u001b[38;5;241m=\u001b[39m\u001b[38;5;124m'\u001b[39m\u001b[38;5;124mlinear\u001b[39m\u001b[38;5;124m'\u001b[39m, C\u001b[38;5;241m=\u001b[39m\u001b[38;5;241m0.001\u001b[39m, decision_function_shape\u001b[38;5;241m=\u001b[39m\u001b[38;5;124m'\u001b[39m\u001b[38;5;124movo\u001b[39m\u001b[38;5;124m'\u001b[39m, verbose\u001b[38;5;241m=\u001b[39m\u001b[38;5;28;01mFalse\u001b[39;00m)\u001b[38;5;241m.\u001b[39mfit(Xtrain, ytrain)\n\u001b[0;32m--> 298\u001b[0m     ypred \u001b[38;5;241m=\u001b[39m \u001b[43mclf\u001b[49m\u001b[38;5;241;43m.\u001b[39;49m\u001b[43mpredict\u001b[49m\u001b[43m(\u001b[49m\u001b[43mXtest\u001b[49m\u001b[43m)\u001b[49m\n\u001b[1;32m    299\u001b[0m     \u001b[38;5;28;01mreturn\u001b[39;00m \u001b[38;5;28mself\u001b[39m\u001b[38;5;241m.\u001b[39mcalculate_performance_metrics(ytest, ypred, key, seed)\n",
      "File \u001b[0;32m/opt/tljh/user/lib/python3.9/site-packages/sklearn/svm/_base.py:791\u001b[0m, in \u001b[0;36mBaseSVC.predict\u001b[0;34m(self, X)\u001b[0m\n\u001b[1;32m    789\u001b[0m     y \u001b[38;5;241m=\u001b[39m np\u001b[38;5;241m.\u001b[39margmax(\u001b[38;5;28mself\u001b[39m\u001b[38;5;241m.\u001b[39mdecision_function(X), axis\u001b[38;5;241m=\u001b[39m\u001b[38;5;241m1\u001b[39m)\n\u001b[1;32m    790\u001b[0m \u001b[38;5;28;01melse\u001b[39;00m:\n\u001b[0;32m--> 791\u001b[0m     y \u001b[38;5;241m=\u001b[39m \u001b[38;5;28;43msuper\u001b[39;49m\u001b[43m(\u001b[49m\u001b[43m)\u001b[49m\u001b[38;5;241;43m.\u001b[39;49m\u001b[43mpredict\u001b[49m\u001b[43m(\u001b[49m\u001b[43mX\u001b[49m\u001b[43m)\u001b[49m\n\u001b[1;32m    792\u001b[0m \u001b[38;5;28;01mreturn\u001b[39;00m \u001b[38;5;28mself\u001b[39m\u001b[38;5;241m.\u001b[39mclasses_\u001b[38;5;241m.\u001b[39mtake(np\u001b[38;5;241m.\u001b[39masarray(y, dtype\u001b[38;5;241m=\u001b[39mnp\u001b[38;5;241m.\u001b[39mintp))\n",
      "File \u001b[0;32m/opt/tljh/user/lib/python3.9/site-packages/sklearn/svm/_base.py:416\u001b[0m, in \u001b[0;36mBaseLibSVM.predict\u001b[0;34m(self, X)\u001b[0m\n\u001b[1;32m    414\u001b[0m X \u001b[38;5;241m=\u001b[39m \u001b[38;5;28mself\u001b[39m\u001b[38;5;241m.\u001b[39m_validate_for_predict(X)\n\u001b[1;32m    415\u001b[0m predict \u001b[38;5;241m=\u001b[39m \u001b[38;5;28mself\u001b[39m\u001b[38;5;241m.\u001b[39m_sparse_predict \u001b[38;5;28;01mif\u001b[39;00m \u001b[38;5;28mself\u001b[39m\u001b[38;5;241m.\u001b[39m_sparse \u001b[38;5;28;01melse\u001b[39;00m \u001b[38;5;28mself\u001b[39m\u001b[38;5;241m.\u001b[39m_dense_predict\n\u001b[0;32m--> 416\u001b[0m \u001b[38;5;28;01mreturn\u001b[39;00m \u001b[43mpredict\u001b[49m\u001b[43m(\u001b[49m\u001b[43mX\u001b[49m\u001b[43m)\u001b[49m\n",
      "File \u001b[0;32m/opt/tljh/user/lib/python3.9/site-packages/sklearn/svm/_base.py:435\u001b[0m, in \u001b[0;36mBaseLibSVM._dense_predict\u001b[0;34m(self, X)\u001b[0m\n\u001b[1;32m    427\u001b[0m         \u001b[38;5;28;01mraise\u001b[39;00m \u001b[38;5;167;01mValueError\u001b[39;00m(\n\u001b[1;32m    428\u001b[0m             \u001b[38;5;124m\"\u001b[39m\u001b[38;5;124mX.shape[1] = \u001b[39m\u001b[38;5;132;01m%d\u001b[39;00m\u001b[38;5;124m should be equal to \u001b[39m\u001b[38;5;132;01m%d\u001b[39;00m\u001b[38;5;124m, \u001b[39m\u001b[38;5;124m\"\u001b[39m\n\u001b[1;32m    429\u001b[0m             \u001b[38;5;124m\"\u001b[39m\u001b[38;5;124mthe number of samples at training time\u001b[39m\u001b[38;5;124m\"\u001b[39m\n\u001b[1;32m    430\u001b[0m             \u001b[38;5;241m%\u001b[39m (X\u001b[38;5;241m.\u001b[39mshape[\u001b[38;5;241m1\u001b[39m], \u001b[38;5;28mself\u001b[39m\u001b[38;5;241m.\u001b[39mshape_fit_[\u001b[38;5;241m0\u001b[39m])\n\u001b[1;32m    431\u001b[0m         )\n\u001b[1;32m    433\u001b[0m svm_type \u001b[38;5;241m=\u001b[39m LIBSVM_IMPL\u001b[38;5;241m.\u001b[39mindex(\u001b[38;5;28mself\u001b[39m\u001b[38;5;241m.\u001b[39m_impl)\n\u001b[0;32m--> 435\u001b[0m \u001b[38;5;28;01mreturn\u001b[39;00m \u001b[43mlibsvm\u001b[49m\u001b[38;5;241;43m.\u001b[39;49m\u001b[43mpredict\u001b[49m\u001b[43m(\u001b[49m\n\u001b[1;32m    436\u001b[0m \u001b[43m    \u001b[49m\u001b[43mX\u001b[49m\u001b[43m,\u001b[49m\n\u001b[1;32m    437\u001b[0m \u001b[43m    \u001b[49m\u001b[38;5;28;43mself\u001b[39;49m\u001b[38;5;241;43m.\u001b[39;49m\u001b[43msupport_\u001b[49m\u001b[43m,\u001b[49m\n\u001b[1;32m    438\u001b[0m \u001b[43m    \u001b[49m\u001b[38;5;28;43mself\u001b[39;49m\u001b[38;5;241;43m.\u001b[39;49m\u001b[43msupport_vectors_\u001b[49m\u001b[43m,\u001b[49m\n\u001b[1;32m    439\u001b[0m \u001b[43m    \u001b[49m\u001b[38;5;28;43mself\u001b[39;49m\u001b[38;5;241;43m.\u001b[39;49m\u001b[43m_n_support\u001b[49m\u001b[43m,\u001b[49m\n\u001b[1;32m    440\u001b[0m \u001b[43m    \u001b[49m\u001b[38;5;28;43mself\u001b[39;49m\u001b[38;5;241;43m.\u001b[39;49m\u001b[43m_dual_coef_\u001b[49m\u001b[43m,\u001b[49m\n\u001b[1;32m    441\u001b[0m \u001b[43m    \u001b[49m\u001b[38;5;28;43mself\u001b[39;49m\u001b[38;5;241;43m.\u001b[39;49m\u001b[43m_intercept_\u001b[49m\u001b[43m,\u001b[49m\n\u001b[1;32m    442\u001b[0m \u001b[43m    \u001b[49m\u001b[38;5;28;43mself\u001b[39;49m\u001b[38;5;241;43m.\u001b[39;49m\u001b[43m_probA\u001b[49m\u001b[43m,\u001b[49m\n\u001b[1;32m    443\u001b[0m \u001b[43m    \u001b[49m\u001b[38;5;28;43mself\u001b[39;49m\u001b[38;5;241;43m.\u001b[39;49m\u001b[43m_probB\u001b[49m\u001b[43m,\u001b[49m\n\u001b[1;32m    444\u001b[0m \u001b[43m    \u001b[49m\u001b[43msvm_type\u001b[49m\u001b[38;5;241;43m=\u001b[39;49m\u001b[43msvm_type\u001b[49m\u001b[43m,\u001b[49m\n\u001b[1;32m    445\u001b[0m \u001b[43m    \u001b[49m\u001b[43mkernel\u001b[49m\u001b[38;5;241;43m=\u001b[39;49m\u001b[43mkernel\u001b[49m\u001b[43m,\u001b[49m\n\u001b[1;32m    446\u001b[0m \u001b[43m    \u001b[49m\u001b[43mdegree\u001b[49m\u001b[38;5;241;43m=\u001b[39;49m\u001b[38;5;28;43mself\u001b[39;49m\u001b[38;5;241;43m.\u001b[39;49m\u001b[43mdegree\u001b[49m\u001b[43m,\u001b[49m\n\u001b[1;32m    447\u001b[0m \u001b[43m    \u001b[49m\u001b[43mcoef0\u001b[49m\u001b[38;5;241;43m=\u001b[39;49m\u001b[38;5;28;43mself\u001b[39;49m\u001b[38;5;241;43m.\u001b[39;49m\u001b[43mcoef0\u001b[49m\u001b[43m,\u001b[49m\n\u001b[1;32m    448\u001b[0m \u001b[43m    \u001b[49m\u001b[43mgamma\u001b[49m\u001b[38;5;241;43m=\u001b[39;49m\u001b[38;5;28;43mself\u001b[39;49m\u001b[38;5;241;43m.\u001b[39;49m\u001b[43m_gamma\u001b[49m\u001b[43m,\u001b[49m\n\u001b[1;32m    449\u001b[0m \u001b[43m    \u001b[49m\u001b[43mcache_size\u001b[49m\u001b[38;5;241;43m=\u001b[39;49m\u001b[38;5;28;43mself\u001b[39;49m\u001b[38;5;241;43m.\u001b[39;49m\u001b[43mcache_size\u001b[49m\u001b[43m,\u001b[49m\n\u001b[1;32m    450\u001b[0m \u001b[43m\u001b[49m\u001b[43m)\u001b[49m\n",
      "\u001b[0;31mKeyboardInterrupt\u001b[0m: "
     ]
    }
   ],
   "source": [
    "ua.evaluate_shifted_sets(X, y, subdirectory='results', random_state=0)"
   ]
  },
  {
   "cell_type": "code",
   "execution_count": 20,
   "id": "54a09e98-d7ec-4554-9995-8de1e0e07414",
   "metadata": {},
   "outputs": [
    {
     "name": "stderr",
     "output_type": "stream",
     "text": [
      "/home/jupyter-jtang46/underspecification/under_pipe/underspecification.py:376: PerformanceWarning: indexing past lexsort depth may impact performance.\n",
      "  f = source.loc[index,'f1-score (shifted)']\n",
      "/home/jupyter-jtang46/underspecification/under_pipe/underspecification.py:377: PerformanceWarning: indexing past lexsort depth may impact performance.\n",
      "  r = source.loc[index,'f1-score (unshifted)']\n",
      "/home/jupyter-jtang46/underspecification/under_pipe/underspecification.py:378: PerformanceWarning: indexing past lexsort depth may impact performance.\n",
      "  source.loc[index,'rank'] = stats.rankdata(-(f+r)/2)\n",
      "/home/jupyter-jtang46/underspecification/under_pipe/underspecification.py:379: PerformanceWarning: indexing past lexsort depth may impact performance.\n",
      "  source.loc[index,'avg f1-score'] = ((f+r)/2).values #2*(f*r)/(f+r)\n",
      "/home/jupyter-jtang46/underspecification/under_pipe/underspecification.py:376: PerformanceWarning: indexing past lexsort depth may impact performance.\n",
      "  f = source.loc[index,'f1-score (shifted)']\n",
      "/home/jupyter-jtang46/underspecification/under_pipe/underspecification.py:377: PerformanceWarning: indexing past lexsort depth may impact performance.\n",
      "  r = source.loc[index,'f1-score (unshifted)']\n",
      "/home/jupyter-jtang46/underspecification/under_pipe/underspecification.py:378: PerformanceWarning: indexing past lexsort depth may impact performance.\n",
      "  source.loc[index,'rank'] = stats.rankdata(-(f+r)/2)\n",
      "/home/jupyter-jtang46/underspecification/under_pipe/underspecification.py:379: PerformanceWarning: indexing past lexsort depth may impact performance.\n",
      "  source.loc[index,'avg f1-score'] = ((f+r)/2).values #2*(f*r)/(f+r)\n"
     ]
    }
   ],
   "source": [
    "ua.analyze_underspecification(filename='rf_results.csv', subdirectory='results')"
   ]
  },
  {
   "cell_type": "code",
   "execution_count": null,
   "id": "ecd8fa6a-1542-4d23-95ae-5333ebaf72b3",
   "metadata": {},
   "outputs": [],
   "source": []
  }
 ],
 "metadata": {
  "kernelspec": {
   "display_name": "Python 3 (ipykernel)",
   "language": "python",
   "name": "python3"
  },
  "language_info": {
   "codemirror_mode": {
    "name": "ipython",
    "version": 3
   },
   "file_extension": ".py",
   "mimetype": "text/x-python",
   "name": "python",
   "nbconvert_exporter": "python",
   "pygments_lexer": "ipython3",
   "version": "3.9.7"
  }
 },
 "nbformat": 4,
 "nbformat_minor": 5
}
