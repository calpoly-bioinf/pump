{
 "cells": [
  {
   "cell_type": "code",
   "execution_count": 32,
   "id": "0fcdf579-5ea3-4434-af8a-81152cd6c8e7",
   "metadata": {},
   "outputs": [
    {
     "name": "stdout",
     "output_type": "stream",
     "text": [
      "The autoreload extension is already loaded. To reload it, use:\n",
      "  %reload_ext autoreload\n"
     ]
    }
   ],
   "source": [
    "%load_ext autoreload\n",
    "%autoreload 2"
   ]
  },
  {
   "cell_type": "code",
   "execution_count": 33,
   "id": "f4cf4881-8bb0-41ac-9fec-a7621b751c7a",
   "metadata": {},
   "outputs": [],
   "source": [
    "from underspecification import UnderspecificationAnalysis"
   ]
  },
  {
   "cell_type": "code",
   "execution_count": 44,
   "id": "8e7a4af3-6753-46a5-b114-531a388a6b48",
   "metadata": {},
   "outputs": [
    {
     "name": "stdout",
     "output_type": "stream",
     "text": [
      "      rep  seed       subtype cluster  f1-score (unshifted-shifted)  \\\n",
      "0       0     1         Basal       0                          0.03   \n",
      "1       0     1         Basal       1                         -0.02   \n",
      "2       0     1         Basal       2                          0.73   \n",
      "3       0     1          Her2       0                          0.18   \n",
      "4       0     1          Her2       1                          0.17   \n",
      "...   ...   ...           ...     ...                           ...   \n",
      "4315    5    30     macro_avg       1                          0.04   \n",
      "4316    5    30     macro_avg       2                          0.01   \n",
      "4317    5    30  weighted_avg       0                          0.07   \n",
      "4318    5    30  weighted_avg       1                          0.03   \n",
      "4319    5    30  weighted_avg       2                          0.00   \n",
      "\n",
      "      f1-score (shifted)  f1-score (unshifted)  \n",
      "0                   0.69                  0.72  \n",
      "1                   0.84                  0.82  \n",
      "2                   0.00                  0.73  \n",
      "3                   0.50                  0.68  \n",
      "4                   0.44                  0.61  \n",
      "...                  ...                   ...  \n",
      "4315                0.65                  0.69  \n",
      "4316                0.62                  0.63  \n",
      "4317                0.73                  0.80  \n",
      "4318                0.71                  0.74  \n",
      "4319                0.69                  0.69  \n",
      "\n",
      "[4320 rows x 7 columns]\n"
     ]
    }
   ],
   "source": [
    "ua = UnderspecificationAnalysis(\n",
    "    data_path='data',\n",
    "    index_path='data/indices'\n",
    ")\n",
    "ua.load_results(\n",
    "    results_file = 'results/experiment2.csv'\n",
    ")\n",
    "ua.load_data(\n",
    "    data_file='metabric/expression_with_gene_ids_min_max_no_pam50.csv.gz',\n",
    "    expressions_file = 'metabric/expression_with_gene_ids.csv.gz',\n",
    "    targets_file='metabric/pam50_claudinlow_subtype.csv',\n",
    "    sample_sample_graph='metabric/A_1.csv',\n",
    "    encoding_file='results/experiment2_ae.call_encoded.csv',\n",
    "    data_test_labels_file='results/experiment2_data.test.labels.csv',\n",
    "    num_to_target_file='metabric/num_to_target.csv'\n",
    ")"
   ]
  },
  {
   "cell_type": "code",
   "execution_count": 46,
   "id": "81bf0483-bd09-4acf-b3ce-180aa449ebcd",
   "metadata": {},
   "outputs": [],
   "source": [
    "knowledge = ['ESR1', 'ERBB2', 'AURKA']\n",
    "ua.generate_knowledge_graph(knowledge, neighbors=10)"
   ]
  },
  {
   "cell_type": "code",
   "execution_count": 51,
   "id": "a65b5fac-ef02-4891-b443-839ccca09e7f",
   "metadata": {},
   "outputs": [
    {
     "name": "stderr",
     "output_type": "stream",
     "text": [
      "/home/jupyter-jtang46/underspecification/under_pipe/underspecification.py:142: PerformanceWarning: indexing past lexsort depth may impact performance.\n",
      "  ranks[ix] = sel_data2.set_index(['cluster','rep']).loc[ix].sort_values(by=by,ascending=ascending).iloc[:n]\n",
      "/home/jupyter-jtang46/underspecification/under_pipe/underspecification.py:142: PerformanceWarning: indexing past lexsort depth may impact performance.\n",
      "  ranks[ix] = sel_data2.set_index(['cluster','rep']).loc[ix].sort_values(by=by,ascending=ascending).iloc[:n]\n",
      "/home/jupyter-jtang46/underspecification/under_pipe/underspecification.py:142: PerformanceWarning: indexing past lexsort depth may impact performance.\n",
      "  ranks[ix] = sel_data2.set_index(['cluster','rep']).loc[ix].sort_values(by=by,ascending=ascending).iloc[:n]\n",
      "/home/jupyter-jtang46/underspecification/under_pipe/underspecification.py:142: PerformanceWarning: indexing past lexsort depth may impact performance.\n",
      "  ranks[ix] = sel_data2.set_index(['cluster','rep']).loc[ix].sort_values(by=by,ascending=ascending).iloc[:n]\n",
      "/home/jupyter-jtang46/underspecification/under_pipe/underspecification.py:142: PerformanceWarning: indexing past lexsort depth may impact performance.\n",
      "  ranks[ix] = sel_data2.set_index(['cluster','rep']).loc[ix].sort_values(by=by,ascending=ascending).iloc[:n]\n"
     ]
    }
   ],
   "source": [
    "ua.calculate_and_rank_unshifted(num_samples=5)"
   ]
  },
  {
   "cell_type": "code",
   "execution_count": null,
   "id": "779a7d25-94a8-4468-8128-0e7474c88270",
   "metadata": {},
   "outputs": [],
   "source": []
  }
 ],
 "metadata": {
  "kernelspec": {
   "display_name": "Python 3 (ipykernel)",
   "language": "python",
   "name": "python3"
  },
  "language_info": {
   "codemirror_mode": {
    "name": "ipython",
    "version": 3
   },
   "file_extension": ".py",
   "mimetype": "text/x-python",
   "name": "python",
   "nbconvert_exporter": "python",
   "pygments_lexer": "ipython3",
   "version": "3.9.7"
  }
 },
 "nbformat": 4,
 "nbformat_minor": 5
}
