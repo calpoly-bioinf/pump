{
 "cells": [
  {
   "cell_type": "code",
   "execution_count": 27,
   "id": "d8971977-eac9-4b63-8588-891dd26e3bb9",
   "metadata": {},
   "outputs": [],
   "source": [
    "import pandas as ps"
   ]
  },
  {
   "cell_type": "code",
   "execution_count": 28,
   "id": "2d9e133b-acf1-41e3-975f-bb11fb416460",
   "metadata": {},
   "outputs": [],
   "source": [
    "import scipy.io\n",
    "\n",
    "# Load mat file with desired data\n",
    "metabric = scipy.io.loadmat('BRCA1View20000.mat')\n",
    "mod = metabric\n"
   ]
  },
  {
   "cell_type": "code",
   "execution_count": 29,
   "id": "d54a0b95-56d4-4e93-8788-63920ddced05",
   "metadata": {},
   "outputs": [
    {
     "data": {
      "text/plain": [
       "{'__header__': b'MATLAB 5.0 MAT-file, Platform: MACI64, Created on: Mon Oct 28 10:46:10 2019',\n",
       " '__version__': '1.0',\n",
       " '__globals__': [],\n",
       " 'GII': array([[   0.        , 2750.21122462, 1115.55242729, ..., 2851.57913616,\n",
       "         1894.77504769, 6245.72295654]]),\n",
       " 'data': array([[ 6.36537394, 14.33044161, 14.38833129, ...,  9.2944014 ,\n",
       "         14.46428166,  6.73075214],\n",
       "        [ 5.61056136,  7.97913885,  6.01671468, ..., 13.70304895,\n",
       "         13.20370814,  6.87978212],\n",
       "        [ 5.13479894, 10.24424041, 12.16443468, ...,  6.06361747,\n",
       "         14.16980399,  6.13441445],\n",
       "        ...,\n",
       "        [ 5.24246002,  5.39674418,  5.69402156, ...,  5.23942778,\n",
       "          5.23571632,  5.12363131],\n",
       "        [ 5.19776742,  5.35215797,  5.45974413, ...,  5.39540163,\n",
       "          5.15554335,  5.2103074 ],\n",
       "        [ 5.64353704,  5.81181326,  5.26901508, ...,  5.5012646 ,\n",
       "          5.4426976 ,  5.45647209]]),\n",
       " 'gene': array([[array(['SCGB2A2'], dtype='<U7'), array(['MUCL1'], dtype='<U5'),\n",
       "         array(['SCGB1D2'], dtype='<U7'), ...,\n",
       "         array(['LOC646050'], dtype='<U9'),\n",
       "         array(['LOC644912'], dtype='<U9'),\n",
       "         array(['LOC652294'], dtype='<U9')]], dtype=object),\n",
       " 'id': array([[2080,  236,  741, ...,  698, 1626,  694]], dtype=uint16),\n",
       " 'targets': array([[6],\n",
       "        [4],\n",
       "        [4],\n",
       "        ...,\n",
       "        [2],\n",
       "        [5],\n",
       "        [1]], dtype=uint8)}"
      ]
     },
     "execution_count": 29,
     "metadata": {},
     "output_type": "execute_result"
    }
   ],
   "source": [
    "mod"
   ]
  },
  {
   "cell_type": "code",
   "execution_count": 30,
   "id": "eb8956c6-d81b-4194-8054-22a79689b257",
   "metadata": {},
   "outputs": [
    {
     "data": {
      "text/plain": [
       "{'SCGB2A2': 0}"
      ]
     },
     "execution_count": 30,
     "metadata": {},
     "output_type": "execute_result"
    }
   ],
   "source": [
    "modgenes = ['SCGB2A2']\n",
    "modgenesdir = [0] # 0 is down, 1 is up\n",
    "modamount = .1 # percent to modify, will stop at threshold\n",
    "genestomod = {}\n",
    "i = 0\n",
    "for g in modgenes:\n",
    "    genestomod[g] = modgenesdir[i]\n",
    "    i += 1\n",
    "    \n",
    "genestomod\n"
   ]
  },
  {
   "cell_type": "code",
   "execution_count": 31,
   "id": "e4ecc0bd-66f9-43cd-af4c-e4c5cfafa82d",
   "metadata": {},
   "outputs": [],
   "source": [
    "genes = []\n",
    "for g in mod['gene'][0]:\n",
    "    genes.append(g[0])"
   ]
  },
  {
   "cell_type": "code",
   "execution_count": 32,
   "id": "b0e57c02-1d43-41be-b18b-dccf50e2fe31",
   "metadata": {},
   "outputs": [
    {
     "name": "stdout",
     "output_type": "stream",
     "text": [
      "14.7388476401903 4.6820017646974\n",
      "[ 6.36537394 14.33044161 14.38833129 ...  9.2944014  14.46428166\n",
      "  6.73075214]\n",
      "[ 5.72883655 12.89739745 12.94949816 ...  8.36496126 13.0178535\n",
      "  6.05767693]\n"
     ]
    }
   ],
   "source": [
    "for g in genestomod.keys():\n",
    "    try:\n",
    "        index = genes.index(g)\n",
    "        maxx = mod['data'][index].max()\n",
    "        minn = mod['data'][index].min()\n",
    "        print(maxx, minn)\n",
    "        print(mod['data'][index])\n",
    "        new_exps = []\n",
    "        if genestomod.get(g) == 0: # Downregulate\n",
    "            for exp in mod['data'][index]:\n",
    "                temp = exp*(1-modamount)\n",
    "                if temp < minn:\n",
    "                    temp = minn\n",
    "                new_exps.append(temp)\n",
    "        elif genestomod.get(g) == 1: # Upregulate\n",
    "            for exp in mod['data'][index]:\n",
    "                temp = exp*(1+modamount)\n",
    "                if temp > maxx:\n",
    "                    temp = maxx\n",
    "                exp = temp\n",
    "        mod['data'][index] = new_exps\n",
    "        print(mod['data'][index])\n",
    "    except ValueError:\n",
    "        print(g+ \" not found in original Metabric\")\n"
   ]
  },
  {
   "cell_type": "code",
   "execution_count": 38,
   "id": "699eb85c-17b6-4b30-b076-72ea87713e99",
   "metadata": {},
   "outputs": [],
   "source": [
    "scipy.io.savemat('modifiedBRCA1View20000_'+str(int(modamount*100))+'_percent.mat', mod)"
   ]
  },
  {
   "cell_type": "code",
   "execution_count": null,
   "id": "4c293217-df57-4961-aafc-b5f76163b3be",
   "metadata": {},
   "outputs": [],
   "source": []
  }
 ],
 "metadata": {
  "kernelspec": {
   "display_name": "Python 3 (ipykernel)",
   "language": "python",
   "name": "python3"
  },
  "language_info": {
   "codemirror_mode": {
    "name": "ipython",
    "version": 3
   },
   "file_extension": ".py",
   "mimetype": "text/x-python",
   "name": "python",
   "nbconvert_exporter": "python",
   "pygments_lexer": "ipython3",
   "version": "3.9.7"
  }
 },
 "nbformat": 4,
 "nbformat_minor": 5
}
