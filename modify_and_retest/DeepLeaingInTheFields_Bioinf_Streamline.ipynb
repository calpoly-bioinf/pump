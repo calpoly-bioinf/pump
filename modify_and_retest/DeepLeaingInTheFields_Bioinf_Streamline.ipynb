{
 "cells": [
  {
   "cell_type": "code",
   "execution_count": 71,
   "id": "72d0c849-26a1-4082-83a5-21fb8ca16e7e",
   "metadata": {},
   "outputs": [],
   "source": [
    "import numpy as np\n",
    "import pandas as pd\n",
    "import pickle"
   ]
  },
  {
   "cell_type": "code",
   "execution_count": 72,
   "id": "8194f2b5-56c7-4811-9376-c58cec729598",
   "metadata": {},
   "outputs": [
    {
     "data": {
      "text/plain": [
       "'/home/jupyter-ajakusov/pump/Colab_Analysis'"
      ]
     },
     "execution_count": 72,
     "metadata": {},
     "output_type": "execute_result"
    }
   ],
   "source": [
    "%pwd"
   ]
  },
  {
   "cell_type": "code",
   "execution_count": 73,
   "id": "fc9278fc-084c-4808-a6e3-830f43d6a61d",
   "metadata": {},
   "outputs": [],
   "source": [
    "result_dir = '../encoders'"
   ]
  },
  {
   "cell_type": "code",
   "execution_count": 74,
   "id": "988e7e80-b2aa-4543-8f7d-14d130bc775a",
   "metadata": {},
   "outputs": [],
   "source": [
    "results = {}\n",
    "results['rs_01'] = pickle.load(open(result_dir + \"/encoder_rs1.pickle\",'rb'))\n"
   ]
  },
  {
   "cell_type": "code",
   "execution_count": 144,
   "id": "97d94a0f-7e41-4424-beaa-6604f4c56cfe",
   "metadata": {},
   "outputs": [
    {
     "ename": "UnpicklingError",
     "evalue": "invalid load key, '\\xd9'.",
     "output_type": "error",
     "traceback": [
      "\u001b[0;31m---------------------------------------------------------------------------\u001b[0m",
      "\u001b[0;31mUnpicklingError\u001b[0m                           Traceback (most recent call last)",
      "Input \u001b[0;32mIn [144]\u001b[0m, in \u001b[0;36m<cell line: 1>\u001b[0;34m()\u001b[0m\n\u001b[0;32m----> 1\u001b[0m results[\u001b[38;5;124m'\u001b[39m\u001b[38;5;124mrs_02\u001b[39m\u001b[38;5;124m'\u001b[39m] \u001b[38;5;241m=\u001b[39m \u001b[43mpickle\u001b[49m\u001b[38;5;241;43m.\u001b[39;49m\u001b[43mload\u001b[49m\u001b[43m(\u001b[49m\u001b[38;5;28;43mopen\u001b[39;49m\u001b[43m(\u001b[49m\u001b[43mresult_dir\u001b[49m\u001b[43m \u001b[49m\u001b[38;5;241;43m+\u001b[39;49m\u001b[43m \u001b[49m\u001b[38;5;124;43m\"\u001b[39;49m\u001b[38;5;124;43m/encoder_rs2.pickle\u001b[39;49m\u001b[38;5;124;43m\"\u001b[39;49m\u001b[43m,\u001b[49m\u001b[38;5;124;43m'\u001b[39;49m\u001b[38;5;124;43mrb\u001b[39;49m\u001b[38;5;124;43m'\u001b[39;49m\u001b[43m)\u001b[49m\u001b[43m)\u001b[49m\n\u001b[1;32m      2\u001b[0m results[\u001b[38;5;124m'\u001b[39m\u001b[38;5;124mrs_03\u001b[39m\u001b[38;5;124m'\u001b[39m] \u001b[38;5;241m=\u001b[39m pickle\u001b[38;5;241m.\u001b[39mload(\u001b[38;5;28mopen\u001b[39m(result_dir \u001b[38;5;241m+\u001b[39m \u001b[38;5;124m\"\u001b[39m\u001b[38;5;124m/encoder_rs3.pickle\u001b[39m\u001b[38;5;124m\"\u001b[39m,\u001b[38;5;124m'\u001b[39m\u001b[38;5;124mrb\u001b[39m\u001b[38;5;124m'\u001b[39m))\n",
      "\u001b[0;31mUnpicklingError\u001b[0m: invalid load key, '\\xd9'."
     ]
    }
   ],
   "source": [
    "results['rs_02'] = pickle.load(open(result_dir + \"/encoder_rs2.pickle\",'rb'))\n",
    "results['rs_03'] = pickle.load(open(result_dir + \"/encoder_rs3.pickle\",'rb'))\n"
   ]
  },
  {
   "cell_type": "code",
   "execution_count": 75,
   "id": "5d9948a2-1623-4a77-963f-28bd59f21edb",
   "metadata": {},
   "outputs": [
    {
     "name": "stdout",
     "output_type": "stream",
     "text": [
      "Selected seed: rs_01\n"
     ]
    }
   ],
   "source": [
    "seed = 'rs_01' \n",
    "print('Selected seed:',seed)"
   ]
  },
  {
   "cell_type": "code",
   "execution_count": 76,
   "id": "f52226cd-af66-49d9-8073-fc9be74d1205",
   "metadata": {},
   "outputs": [],
   "source": [
    "import numpy as np\n",
    "import tensorflow.compat.v1 as tf\n",
    "tf.disable_v2_behavior()\n"
   ]
  },
  {
   "cell_type": "code",
   "execution_count": 77,
   "id": "0ce67b4b-d1b6-4dd9-8ac4-d339928fe06a",
   "metadata": {},
   "outputs": [],
   "source": [
    "#Extracted from DeepType/model.py\n",
    "import os\n",
    "import argparse\n",
    "import numpy as np\n",
    "#import pandas as pd\n",
    "\n",
    "\n",
    "\n",
    "######################################################################################################################\n",
    "\n",
    "class AutoEncoder(object):\n",
    "\n",
    "  _weights_str = \"w_{0}\"\n",
    "  _biases_str = \"b_{0}\"\n",
    "\n",
    "  def __init__(self, shape):\n",
    "      '''Autoencoder initializer\n",
    "\n",
    "      Args:\n",
    "      shape: list of ints specifying\n",
    "            num input, hidden1 units,...hidden_n units, num logits\n",
    "      sess: tensorflow session object to use\n",
    "      '''\n",
    "      self.__shape = shape  # [input_dim,hidden1_dim,...,hidden_n_dim,output_dim]\n",
    "      self.__num_hidden_layers = len(self.__shape) - 2\n",
    "\n",
    "      self.__variables = {}\n",
    "\n",
    "\n",
    "      self._setup_variables()\n",
    "\n",
    "\n",
    "  @property\n",
    "  def shape(self):\n",
    "      return self.__shape\n",
    "\n",
    "  @property\n",
    "  def num_hidden_layers(self):\n",
    "      return self.__num_hidden_layers\n",
    "\n",
    "\n",
    "\n",
    "  def __getitem__(self, item):\n",
    "      \"\"\"Get autoencoder tf variable\n",
    "\n",
    "      Returns the specified variable created by this object.\n",
    "      Names are weights#, biases#, biases#_out, weights#_fixed,\n",
    "      biases#_fixed.\n",
    "\n",
    "      Args:\n",
    "      item: string, variables internal name\n",
    "      Returns:\n",
    "      Tensorflow variable\n",
    "      \"\"\"\n",
    "      return self.__variables[item]\n",
    "\n",
    "  def __setitem__(self, key, value):\n",
    "      \"\"\"Store a tensorflow variable\n",
    "\n",
    "      NOTE: Don't call this explicity. It should\n",
    "      be used only internally when setting up\n",
    "      variables.\n",
    "\n",
    "      Args:\n",
    "      key: string, name of variable\n",
    "      value: tensorflow variable\n",
    "      \"\"\"\n",
    "      self.__variables[key] = value\n",
    "\n",
    "  def _copy_from_other(self, ae_other):\n",
    "      for i in range(self.__num_hidden_layers + 1):\n",
    "          # Train weights\n",
    "          name_w = self._weights_str.format(i + 1)\n",
    "          self[name_w] = ae_other[name_w]\n",
    "          # Train biases\n",
    "          name_b = self._biases_str.format(i + 1)\n",
    "          self[name_b] = ae_other[name_b]\n",
    "\n",
    "\n",
    "  def _copy_from_initialize(self, ae_layer_list):\n",
    "\n",
    "      for i in range(self.__num_hidden_layers + 1):\n",
    "          # Train weights\n",
    "          name_w = self._weights_str.format(i + 1)\n",
    "          self[name_w] = ae_layer_list[name_w]\n",
    "          # Train biases\n",
    "          name_b = self._biases_str.format(i + 1)\n",
    "          tmp = np.reshape(ae_layer_list[name_b], (1, -1))\n",
    "          print(tmp[0].shape)\n",
    "          self[name_b] = tmp[0]\n",
    "\n",
    "\n",
    "\n",
    "\n",
    "  def get_variables_to_init(self, n):\n",
    "      \"\"\"Return variables that need initialization\n",
    "\n",
    "      Args:\n",
    "      n: initialize to the n-th layer\n",
    "      \"\"\"\n",
    "      assert n > 0\n",
    "      assert n <= self.__num_hidden_layers + 1\n",
    "\n",
    "      vars_to_init = [self._w(n), self._b(n)]\n",
    "\n",
    "      return vars_to_init\n",
    "\n",
    "\n",
    "  def _setup_variables(self, initialize = False, initialize_data = []):\n",
    "      for i in range(0, self.__num_hidden_layers + 1):\n",
    "          # Trainable weights\n",
    "          name_w = self._weights_str.format(i + 1)\n",
    "          w_shape = (self.__shape[i], self.__shape[i + 1])\n",
    "          if initialize:\n",
    "              w_init = tf.Variable(initialize_data[name_w])\n",
    "          else:\n",
    "              w_init = tf.Variable(tf.random_normal(w_shape, stddev=0.02))\n",
    "\n",
    "\n",
    "          self[name_w] = tf.Variable(w_init, name=name_w, trainable=True)\n",
    "\n",
    "          # Trainable biases\n",
    "          name_b = self._biases_str.format(i + 1)\n",
    "          b_shape = (self.__shape[i + 1],)\n",
    "          if initialize:\n",
    "              tmp = np.reshape(initialize_data[name_b], (1, -1))\n",
    "              b_init = tf.Variable(tmp[0])\n",
    "          else:\n",
    "              b_init = tf.Variable(tf.random_normal(b_shape,  stddev=0.02))\n",
    "          self[name_b] = tf.Variable(b_init, name=name_b, trainable=True)\n",
    "\n",
    "\n",
    "  def _w(self, n, suffix=\"\"):\n",
    "      return self[self._weights_str.format(n) + suffix]\n",
    "\n",
    "  def _b(self, n, suffix=\"\"):\n",
    "      return self[self._biases_str.format(n) + suffix]\n",
    "\n",
    "  @staticmethod\n",
    "  def _activate(x, w, b,  is_target = False):\n",
    "      if is_target == False:\n",
    "          y = tf.nn.sigmoid(tf.add(tf.matmul(x, w), b)) # sigmoid, can change to ReLU\n",
    "          y = tf.maximum(y, 1.e-9)\n",
    "          y = tf.minimum(y, 1 - 1.e-9)\n",
    "\n",
    "      else:\n",
    "          y = tf.nn.softmax(tf.add(tf.matmul(x, w), b))\n",
    "      return y\n",
    "\n",
    "\n",
    "  def supervised_net(self, input_pl, n):\n",
    "      \"\"\"Get the supervised fine tuning net\n",
    "\n",
    "      Args:\n",
    "      input_pl: tf placeholder for ae input data\n",
    "      Returns:\n",
    "      Tensor giving full ae net\n",
    "      \"\"\"\n",
    "\n",
    "      last_output = input_pl\n",
    "      assert n > 0\n",
    "      assert n <= self.__num_hidden_layers + 1\n",
    "\n",
    "      for i in range(0, n):\n",
    "          w = self._w(i + 1)\n",
    "          b = self._b(i + 1)\n",
    "          if i < self.__num_hidden_layers:\n",
    "              last_output = self._activate(last_output, w, b)\n",
    "          else:\n",
    "              last_output = self._activate(last_output, w, b, is_target= True)\n",
    "\n",
    "      return last_output\n",
    "\n",
    "\n"
   ]
  },
  {
   "cell_type": "code",
   "execution_count": 78,
   "id": "e9ef1436-b493-4ddf-9b64-d37de417abea",
   "metadata": {},
   "outputs": [],
   "source": [
    "sess = tf.Session()\n",
    "with sess.graph.as_default():\n",
    "    NUM_GENES_1 = 20000\n",
    "    NUM_HIDDEN = 2\n",
    "    NUM_CLASSES = 6\n",
    "    NUM_NODES = [1024, 512]\n",
    "\n",
    "    ae = AutoEncoder([NUM_GENES_1] + NUM_NODES + [NUM_CLASSES])\n",
    "    ae._setup_variables(initialize = True, initialize_data = results[seed][0])"
   ]
  },
  {
   "cell_type": "code",
   "execution_count": 79,
   "id": "12496ef0-6254-436a-8c61-e74ee27ace0f",
   "metadata": {},
   "outputs": [],
   "source": [
    "import scipy.io\n",
    "\n",
    "# Load mat file with desired data\n",
    "mat = scipy.io.loadmat('BRCA1View20000.mat')\n",
    "\n",
    "# Access data from the mat file\n"
   ]
  },
  {
   "cell_type": "code",
   "execution_count": 80,
   "id": "c3ed6dac-d480-4196-b6b5-7dd7b3744f74",
   "metadata": {},
   "outputs": [
    {
     "data": {
      "text/plain": [
       "{'__header__': b'MATLAB 5.0 MAT-file, Platform: MACI64, Created on: Mon Oct 28 10:46:10 2019',\n",
       " '__version__': '1.0',\n",
       " '__globals__': [],\n",
       " 'GII': array([[   0.        , 2750.21122462, 1115.55242729, ..., 2851.57913616,\n",
       "         1894.77504769, 6245.72295654]]),\n",
       " 'data': array([[ 6.36537394, 14.33044161, 14.38833129, ...,  9.2944014 ,\n",
       "         14.46428166,  6.73075214],\n",
       "        [ 5.61056136,  7.97913885,  6.01671468, ..., 13.70304895,\n",
       "         13.20370814,  6.87978212],\n",
       "        [ 5.13479894, 10.24424041, 12.16443468, ...,  6.06361747,\n",
       "         14.16980399,  6.13441445],\n",
       "        ...,\n",
       "        [ 5.24246002,  5.39674418,  5.69402156, ...,  5.23942778,\n",
       "          5.23571632,  5.12363131],\n",
       "        [ 5.19776742,  5.35215797,  5.45974413, ...,  5.39540163,\n",
       "          5.15554335,  5.2103074 ],\n",
       "        [ 5.64353704,  5.81181326,  5.26901508, ...,  5.5012646 ,\n",
       "          5.4426976 ,  5.45647209]]),\n",
       " 'gene': array([[array(['SCGB2A2'], dtype='<U7'), array(['MUCL1'], dtype='<U5'),\n",
       "         array(['SCGB1D2'], dtype='<U7'), ...,\n",
       "         array(['LOC646050'], dtype='<U9'),\n",
       "         array(['LOC644912'], dtype='<U9'),\n",
       "         array(['LOC652294'], dtype='<U9')]], dtype=object),\n",
       " 'id': array([[2080,  236,  741, ...,  698, 1626,  694]], dtype=uint16),\n",
       " 'targets': array([[6],\n",
       "        [4],\n",
       "        [4],\n",
       "        ...,\n",
       "        [2],\n",
       "        [5],\n",
       "        [1]], dtype=uint8)}"
      ]
     },
     "execution_count": 80,
     "metadata": {},
     "output_type": "execute_result"
    }
   ],
   "source": [
    "mat"
   ]
  },
  {
   "cell_type": "code",
   "execution_count": 101,
   "id": "9306bef6-838c-4181-82c1-456cf1a9ed49",
   "metadata": {},
   "outputs": [],
   "source": [
    "df = pd.DataFrame()"
   ]
  },
  {
   "cell_type": "code",
   "execution_count": 82,
   "id": "b7bf60ff-50df-413a-80f8-1c2058b10ffc",
   "metadata": {},
   "outputs": [],
   "source": [
    "len(mat['data']) #20,000\n",
    "len(mat['data'][0]) #2133\n",
    "len(mat['gene'][0]) #1\n",
    "cols = []\n",
    "\n",
    "for g in mat['gene'][0]:\n",
    "    cols.append(g[0])"
   ]
  },
  {
   "cell_type": "code",
   "execution_count": 116,
   "id": "a16ea825-490a-476a-a376-dc41a43ddd94",
   "metadata": {},
   "outputs": [
    {
     "data": {
      "text/plain": [
       "20000"
      ]
     },
     "execution_count": 116,
     "metadata": {},
     "output_type": "execute_result"
    }
   ],
   "source": [
    "len(mat['gene'][0])"
   ]
  },
  {
   "cell_type": "code",
   "execution_count": 99,
   "id": "33b0bd45-6c0e-4bb3-b422-82b0b0066567",
   "metadata": {},
   "outputs": [
    {
     "data": {
      "text/plain": [
       "20000"
      ]
     },
     "execution_count": 99,
     "metadata": {},
     "output_type": "execute_result"
    }
   ],
   "source": [
    "len(cols)"
   ]
  },
  {
   "cell_type": "code",
   "execution_count": 117,
   "id": "56ace71c-1cbc-46ad-a8da-0657749f6736",
   "metadata": {},
   "outputs": [
    {
     "data": {
      "text/plain": [
       "20000"
      ]
     },
     "execution_count": 117,
     "metadata": {},
     "output_type": "execute_result"
    }
   ],
   "source": [
    "len(mat['data'])"
   ]
  },
  {
   "cell_type": "code",
   "execution_count": 103,
   "id": "70bbbc64-097f-4ab6-aa7d-b8928c265d59",
   "metadata": {},
   "outputs": [
    {
     "name": "stdout",
     "output_type": "stream",
     "text": [
      "1000\n",
      "2000\n",
      "3000\n",
      "4000\n",
      "5000\n",
      "6000\n",
      "7000\n",
      "8000\n",
      "9000\n",
      "10000\n",
      "11000\n",
      "12000\n",
      "13000\n",
      "14000\n",
      "15000\n",
      "16000\n",
      "17000\n",
      "18000\n",
      "19000\n",
      "20000\n"
     ]
    }
   ],
   "source": [
    "i = 0\n",
    "for c in cols:\n",
    "    df2 = pd.DataFrame(mat['data'][i],columns = [c])\n",
    "    df = pd.concat([df, df2], axis=1)\n",
    "    i += 1;\n",
    "    if i%1000 ==0:\n",
    "        print(str((i/20000)*100) + '% Transfered')\n"
   ]
  },
  {
   "cell_type": "code",
   "execution_count": 105,
   "id": "cb1564cf-2a39-4fba-baa7-5606b3f61dd1",
   "metadata": {},
   "outputs": [
    {
     "name": "stderr",
     "output_type": "stream",
     "text": [
      "/tmp/ipykernel_22385/2702621230.py:5: PerformanceWarning: DataFrame is highly fragmented.  This is usually the result of calling `frame.insert` many times, which has poor performance.  Consider joining all columns at once using pd.concat(axis=1) instead. To get a de-fragmented frame, use `newframe = frame.copy()`\n",
      "  df['label'] = labels\n"
     ]
    }
   ],
   "source": [
    "labels = []\n",
    "for l in mat['targets']:\n",
    "    labels.append(l[0])\n",
    "\n",
    "df['label'] = labels"
   ]
  },
  {
   "cell_type": "code",
   "execution_count": 111,
   "id": "5d3329d7-d2c5-4bff-b179-c08aa5cc7bfd",
   "metadata": {},
   "outputs": [
    {
     "data": {
      "text/plain": [
       "2133"
      ]
     },
     "execution_count": 111,
     "metadata": {},
     "output_type": "execute_result"
    }
   ],
   "source": [
    "len(labels)"
   ]
  },
  {
   "cell_type": "code",
   "execution_count": 112,
   "id": "509ccb5b-d1ae-4074-ab56-7897c427b25a",
   "metadata": {},
   "outputs": [
    {
     "data": {
      "text/plain": [
       "2133"
      ]
     },
     "execution_count": 112,
     "metadata": {},
     "output_type": "execute_result"
    }
   ],
   "source": [
    "len(df)"
   ]
  },
  {
   "cell_type": "code",
   "execution_count": 113,
   "id": "a6104bb7-9aff-4a92-83d5-435b44944892",
   "metadata": {},
   "outputs": [
    {
     "data": {
      "text/plain": [
       "21445"
      ]
     },
     "execution_count": 113,
     "metadata": {},
     "output_type": "execute_result"
    }
   ],
   "source": [
    "len(df.columns)"
   ]
  },
  {
   "cell_type": "code",
   "execution_count": 110,
   "id": "6d5ab172-6416-456c-aee9-b777e1aadd29",
   "metadata": {},
   "outputs": [
    {
     "data": {
      "text/plain": [
       "20001"
      ]
     },
     "execution_count": 110,
     "metadata": {},
     "output_type": "execute_result"
    }
   ],
   "source": [
    "df.columns.nunique()"
   ]
  },
  {
   "cell_type": "code",
   "execution_count": 114,
   "id": "ac20cdbd-a4dd-4618-b2e0-bd18f5142b5c",
   "metadata": {},
   "outputs": [],
   "source": [
    "df = df.loc[:, ~df.columns.duplicated(keep='first')]\n"
   ]
  },
  {
   "cell_type": "code",
   "execution_count": 115,
   "id": "9a07702d-c7b5-433a-93b6-6583405c61b8",
   "metadata": {},
   "outputs": [
    {
     "data": {
      "text/html": [
       "<div>\n",
       "<style scoped>\n",
       "    .dataframe tbody tr th:only-of-type {\n",
       "        vertical-align: middle;\n",
       "    }\n",
       "\n",
       "    .dataframe tbody tr th {\n",
       "        vertical-align: top;\n",
       "    }\n",
       "\n",
       "    .dataframe thead th {\n",
       "        text-align: right;\n",
       "    }\n",
       "</style>\n",
       "<table border=\"1\" class=\"dataframe\">\n",
       "  <thead>\n",
       "    <tr style=\"text-align: right;\">\n",
       "      <th></th>\n",
       "      <th>SCGB2A2</th>\n",
       "      <th>MUCL1</th>\n",
       "      <th>SCGB1D2</th>\n",
       "      <th>PIP</th>\n",
       "      <th>LOC648852</th>\n",
       "      <th>DNAJA2</th>\n",
       "      <th>TFF3</th>\n",
       "      <th>S100P</th>\n",
       "      <th>CPB1</th>\n",
       "      <th>CEACAM6</th>\n",
       "      <th>...</th>\n",
       "      <th>LOC641311</th>\n",
       "      <th>LOC645307</th>\n",
       "      <th>IL1RAP</th>\n",
       "      <th>LOC647149</th>\n",
       "      <th>LOC642453</th>\n",
       "      <th>LOC652100</th>\n",
       "      <th>LOC646050</th>\n",
       "      <th>LOC644912</th>\n",
       "      <th>LOC652294</th>\n",
       "      <th>label</th>\n",
       "    </tr>\n",
       "  </thead>\n",
       "  <tbody>\n",
       "    <tr>\n",
       "      <th>0</th>\n",
       "      <td>6.365374</td>\n",
       "      <td>5.610561</td>\n",
       "      <td>5.134799</td>\n",
       "      <td>5.735802</td>\n",
       "      <td>5.855315</td>\n",
       "      <td>5.443985</td>\n",
       "      <td>8.005882</td>\n",
       "      <td>5.615179</td>\n",
       "      <td>6.682096</td>\n",
       "      <td>5.756946</td>\n",
       "      <td>...</td>\n",
       "      <td>5.409726</td>\n",
       "      <td>5.420998</td>\n",
       "      <td>5.396492</td>\n",
       "      <td>5.358751</td>\n",
       "      <td>5.424770</td>\n",
       "      <td>5.411055</td>\n",
       "      <td>5.242460</td>\n",
       "      <td>5.197767</td>\n",
       "      <td>5.643537</td>\n",
       "      <td>6</td>\n",
       "    </tr>\n",
       "    <tr>\n",
       "      <th>1</th>\n",
       "      <td>14.330442</td>\n",
       "      <td>7.979139</td>\n",
       "      <td>10.244240</td>\n",
       "      <td>7.138279</td>\n",
       "      <td>9.890661</td>\n",
       "      <td>11.195867</td>\n",
       "      <td>13.511164</td>\n",
       "      <td>10.548596</td>\n",
       "      <td>5.491578</td>\n",
       "      <td>6.805606</td>\n",
       "      <td>...</td>\n",
       "      <td>5.213895</td>\n",
       "      <td>5.167652</td>\n",
       "      <td>5.273045</td>\n",
       "      <td>5.287980</td>\n",
       "      <td>5.398061</td>\n",
       "      <td>5.226934</td>\n",
       "      <td>5.396744</td>\n",
       "      <td>5.352158</td>\n",
       "      <td>5.811813</td>\n",
       "      <td>4</td>\n",
       "    </tr>\n",
       "    <tr>\n",
       "      <th>2</th>\n",
       "      <td>14.388331</td>\n",
       "      <td>6.016715</td>\n",
       "      <td>12.164435</td>\n",
       "      <td>5.272691</td>\n",
       "      <td>6.468386</td>\n",
       "      <td>5.265518</td>\n",
       "      <td>13.386034</td>\n",
       "      <td>8.764722</td>\n",
       "      <td>7.331663</td>\n",
       "      <td>11.967719</td>\n",
       "      <td>...</td>\n",
       "      <td>5.707537</td>\n",
       "      <td>5.327874</td>\n",
       "      <td>5.549589</td>\n",
       "      <td>5.333051</td>\n",
       "      <td>5.368544</td>\n",
       "      <td>5.296182</td>\n",
       "      <td>5.694022</td>\n",
       "      <td>5.459744</td>\n",
       "      <td>5.269015</td>\n",
       "      <td>4</td>\n",
       "    </tr>\n",
       "    <tr>\n",
       "      <th>3</th>\n",
       "      <td>13.111243</td>\n",
       "      <td>7.251862</td>\n",
       "      <td>8.389121</td>\n",
       "      <td>8.664654</td>\n",
       "      <td>10.378585</td>\n",
       "      <td>5.544646</td>\n",
       "      <td>11.159766</td>\n",
       "      <td>8.263224</td>\n",
       "      <td>5.497906</td>\n",
       "      <td>5.923506</td>\n",
       "      <td>...</td>\n",
       "      <td>5.351022</td>\n",
       "      <td>5.009093</td>\n",
       "      <td>5.345468</td>\n",
       "      <td>5.176322</td>\n",
       "      <td>5.326991</td>\n",
       "      <td>5.480259</td>\n",
       "      <td>5.292691</td>\n",
       "      <td>5.242160</td>\n",
       "      <td>5.635111</td>\n",
       "      <td>5</td>\n",
       "    </tr>\n",
       "    <tr>\n",
       "      <th>4</th>\n",
       "      <td>12.243103</td>\n",
       "      <td>7.293489</td>\n",
       "      <td>10.919581</td>\n",
       "      <td>9.566137</td>\n",
       "      <td>8.503568</td>\n",
       "      <td>11.492583</td>\n",
       "      <td>11.531352</td>\n",
       "      <td>9.818938</td>\n",
       "      <td>9.443134</td>\n",
       "      <td>6.889670</td>\n",
       "      <td>...</td>\n",
       "      <td>5.320883</td>\n",
       "      <td>5.487783</td>\n",
       "      <td>5.479967</td>\n",
       "      <td>5.332074</td>\n",
       "      <td>5.273141</td>\n",
       "      <td>5.282872</td>\n",
       "      <td>5.222482</td>\n",
       "      <td>5.186136</td>\n",
       "      <td>5.616094</td>\n",
       "      <td>3</td>\n",
       "    </tr>\n",
       "    <tr>\n",
       "      <th>...</th>\n",
       "      <td>...</td>\n",
       "      <td>...</td>\n",
       "      <td>...</td>\n",
       "      <td>...</td>\n",
       "      <td>...</td>\n",
       "      <td>...</td>\n",
       "      <td>...</td>\n",
       "      <td>...</td>\n",
       "      <td>...</td>\n",
       "      <td>...</td>\n",
       "      <td>...</td>\n",
       "      <td>...</td>\n",
       "      <td>...</td>\n",
       "      <td>...</td>\n",
       "      <td>...</td>\n",
       "      <td>...</td>\n",
       "      <td>...</td>\n",
       "      <td>...</td>\n",
       "      <td>...</td>\n",
       "      <td>...</td>\n",
       "      <td>...</td>\n",
       "    </tr>\n",
       "    <tr>\n",
       "      <th>2128</th>\n",
       "      <td>7.199176</td>\n",
       "      <td>5.708891</td>\n",
       "      <td>5.672914</td>\n",
       "      <td>14.464282</td>\n",
       "      <td>9.816897</td>\n",
       "      <td>5.604835</td>\n",
       "      <td>13.303832</td>\n",
       "      <td>6.391817</td>\n",
       "      <td>13.010996</td>\n",
       "      <td>8.294409</td>\n",
       "      <td>...</td>\n",
       "      <td>5.695733</td>\n",
       "      <td>5.363557</td>\n",
       "      <td>5.394837</td>\n",
       "      <td>5.442947</td>\n",
       "      <td>5.423763</td>\n",
       "      <td>5.558225</td>\n",
       "      <td>5.575000</td>\n",
       "      <td>5.636068</td>\n",
       "      <td>5.454823</td>\n",
       "      <td>3</td>\n",
       "    </tr>\n",
       "    <tr>\n",
       "      <th>2129</th>\n",
       "      <td>10.354497</td>\n",
       "      <td>14.464282</td>\n",
       "      <td>7.633244</td>\n",
       "      <td>14.464282</td>\n",
       "      <td>11.294018</td>\n",
       "      <td>5.468214</td>\n",
       "      <td>10.886420</td>\n",
       "      <td>12.260033</td>\n",
       "      <td>5.662372</td>\n",
       "      <td>6.274380</td>\n",
       "      <td>...</td>\n",
       "      <td>5.537254</td>\n",
       "      <td>5.613097</td>\n",
       "      <td>5.254552</td>\n",
       "      <td>5.205904</td>\n",
       "      <td>5.486546</td>\n",
       "      <td>5.206480</td>\n",
       "      <td>5.161718</td>\n",
       "      <td>5.451296</td>\n",
       "      <td>5.215587</td>\n",
       "      <td>5</td>\n",
       "    </tr>\n",
       "    <tr>\n",
       "      <th>2130</th>\n",
       "      <td>9.294401</td>\n",
       "      <td>13.703049</td>\n",
       "      <td>6.063617</td>\n",
       "      <td>10.063176</td>\n",
       "      <td>5.393440</td>\n",
       "      <td>5.529584</td>\n",
       "      <td>10.937517</td>\n",
       "      <td>12.220400</td>\n",
       "      <td>9.985646</td>\n",
       "      <td>8.370227</td>\n",
       "      <td>...</td>\n",
       "      <td>5.520596</td>\n",
       "      <td>5.572326</td>\n",
       "      <td>5.317225</td>\n",
       "      <td>5.178158</td>\n",
       "      <td>5.316757</td>\n",
       "      <td>5.210332</td>\n",
       "      <td>5.239428</td>\n",
       "      <td>5.395402</td>\n",
       "      <td>5.501265</td>\n",
       "      <td>2</td>\n",
       "    </tr>\n",
       "    <tr>\n",
       "      <th>2131</th>\n",
       "      <td>14.464282</td>\n",
       "      <td>13.203708</td>\n",
       "      <td>14.169804</td>\n",
       "      <td>13.731721</td>\n",
       "      <td>12.478907</td>\n",
       "      <td>5.347654</td>\n",
       "      <td>14.464282</td>\n",
       "      <td>9.593148</td>\n",
       "      <td>6.165212</td>\n",
       "      <td>11.207149</td>\n",
       "      <td>...</td>\n",
       "      <td>5.650387</td>\n",
       "      <td>5.359733</td>\n",
       "      <td>5.374522</td>\n",
       "      <td>5.245155</td>\n",
       "      <td>5.453742</td>\n",
       "      <td>5.353135</td>\n",
       "      <td>5.235716</td>\n",
       "      <td>5.155543</td>\n",
       "      <td>5.442698</td>\n",
       "      <td>5</td>\n",
       "    </tr>\n",
       "    <tr>\n",
       "      <th>2132</th>\n",
       "      <td>6.730752</td>\n",
       "      <td>6.879782</td>\n",
       "      <td>6.134414</td>\n",
       "      <td>5.446989</td>\n",
       "      <td>5.320249</td>\n",
       "      <td>10.904521</td>\n",
       "      <td>5.347355</td>\n",
       "      <td>12.784519</td>\n",
       "      <td>5.391796</td>\n",
       "      <td>6.048233</td>\n",
       "      <td>...</td>\n",
       "      <td>5.193949</td>\n",
       "      <td>5.300694</td>\n",
       "      <td>5.545144</td>\n",
       "      <td>5.143987</td>\n",
       "      <td>5.496168</td>\n",
       "      <td>5.236875</td>\n",
       "      <td>5.123631</td>\n",
       "      <td>5.210307</td>\n",
       "      <td>5.456472</td>\n",
       "      <td>1</td>\n",
       "    </tr>\n",
       "  </tbody>\n",
       "</table>\n",
       "<p>2133 rows × 20001 columns</p>\n",
       "</div>"
      ],
      "text/plain": [
       "        SCGB2A2      MUCL1    SCGB1D2        PIP  LOC648852     DNAJA2  \\\n",
       "0      6.365374   5.610561   5.134799   5.735802   5.855315   5.443985   \n",
       "1     14.330442   7.979139  10.244240   7.138279   9.890661  11.195867   \n",
       "2     14.388331   6.016715  12.164435   5.272691   6.468386   5.265518   \n",
       "3     13.111243   7.251862   8.389121   8.664654  10.378585   5.544646   \n",
       "4     12.243103   7.293489  10.919581   9.566137   8.503568  11.492583   \n",
       "...         ...        ...        ...        ...        ...        ...   \n",
       "2128   7.199176   5.708891   5.672914  14.464282   9.816897   5.604835   \n",
       "2129  10.354497  14.464282   7.633244  14.464282  11.294018   5.468214   \n",
       "2130   9.294401  13.703049   6.063617  10.063176   5.393440   5.529584   \n",
       "2131  14.464282  13.203708  14.169804  13.731721  12.478907   5.347654   \n",
       "2132   6.730752   6.879782   6.134414   5.446989   5.320249  10.904521   \n",
       "\n",
       "           TFF3      S100P       CPB1    CEACAM6  ...  LOC641311  LOC645307  \\\n",
       "0      8.005882   5.615179   6.682096   5.756946  ...   5.409726   5.420998   \n",
       "1     13.511164  10.548596   5.491578   6.805606  ...   5.213895   5.167652   \n",
       "2     13.386034   8.764722   7.331663  11.967719  ...   5.707537   5.327874   \n",
       "3     11.159766   8.263224   5.497906   5.923506  ...   5.351022   5.009093   \n",
       "4     11.531352   9.818938   9.443134   6.889670  ...   5.320883   5.487783   \n",
       "...         ...        ...        ...        ...  ...        ...        ...   \n",
       "2128  13.303832   6.391817  13.010996   8.294409  ...   5.695733   5.363557   \n",
       "2129  10.886420  12.260033   5.662372   6.274380  ...   5.537254   5.613097   \n",
       "2130  10.937517  12.220400   9.985646   8.370227  ...   5.520596   5.572326   \n",
       "2131  14.464282   9.593148   6.165212  11.207149  ...   5.650387   5.359733   \n",
       "2132   5.347355  12.784519   5.391796   6.048233  ...   5.193949   5.300694   \n",
       "\n",
       "        IL1RAP  LOC647149  LOC642453  LOC652100  LOC646050  LOC644912  \\\n",
       "0     5.396492   5.358751   5.424770   5.411055   5.242460   5.197767   \n",
       "1     5.273045   5.287980   5.398061   5.226934   5.396744   5.352158   \n",
       "2     5.549589   5.333051   5.368544   5.296182   5.694022   5.459744   \n",
       "3     5.345468   5.176322   5.326991   5.480259   5.292691   5.242160   \n",
       "4     5.479967   5.332074   5.273141   5.282872   5.222482   5.186136   \n",
       "...        ...        ...        ...        ...        ...        ...   \n",
       "2128  5.394837   5.442947   5.423763   5.558225   5.575000   5.636068   \n",
       "2129  5.254552   5.205904   5.486546   5.206480   5.161718   5.451296   \n",
       "2130  5.317225   5.178158   5.316757   5.210332   5.239428   5.395402   \n",
       "2131  5.374522   5.245155   5.453742   5.353135   5.235716   5.155543   \n",
       "2132  5.545144   5.143987   5.496168   5.236875   5.123631   5.210307   \n",
       "\n",
       "      LOC652294  label  \n",
       "0      5.643537      6  \n",
       "1      5.811813      4  \n",
       "2      5.269015      4  \n",
       "3      5.635111      5  \n",
       "4      5.616094      3  \n",
       "...         ...    ...  \n",
       "2128   5.454823      3  \n",
       "2129   5.215587      5  \n",
       "2130   5.501265      2  \n",
       "2131   5.442698      5  \n",
       "2132   5.456472      1  \n",
       "\n",
       "[2133 rows x 20001 columns]"
      ]
     },
     "execution_count": 115,
     "metadata": {},
     "output_type": "execute_result"
    }
   ],
   "source": [
    "df"
   ]
  },
  {
   "cell_type": "code",
   "execution_count": 118,
   "id": "55862a82-594a-4f78-bb8b-0af18a712f38",
   "metadata": {},
   "outputs": [
    {
     "data": {
      "text/plain": [
       "array([2080,  236,  741, ...,  698, 1626,  694], dtype=uint16)"
      ]
     },
     "execution_count": 118,
     "metadata": {},
     "output_type": "execute_result"
    }
   ],
   "source": [
    "mat['id'][0]"
   ]
  },
  {
   "cell_type": "code",
   "execution_count": 121,
   "id": "93b1c153-f011-4dc3-acba-5839a7d137fd",
   "metadata": {},
   "outputs": [
    {
     "data": {
      "text/html": [
       "<div>\n",
       "<style scoped>\n",
       "    .dataframe tbody tr th:only-of-type {\n",
       "        vertical-align: middle;\n",
       "    }\n",
       "\n",
       "    .dataframe tbody tr th {\n",
       "        vertical-align: top;\n",
       "    }\n",
       "\n",
       "    .dataframe thead th {\n",
       "        text-align: right;\n",
       "    }\n",
       "</style>\n",
       "<table border=\"1\" class=\"dataframe\">\n",
       "  <thead>\n",
       "    <tr style=\"text-align: right;\">\n",
       "      <th></th>\n",
       "      <th>SCGB2A2</th>\n",
       "      <th>MUCL1</th>\n",
       "      <th>SCGB1D2</th>\n",
       "      <th>PIP</th>\n",
       "      <th>LOC648852</th>\n",
       "      <th>DNAJA2</th>\n",
       "      <th>TFF3</th>\n",
       "      <th>S100P</th>\n",
       "      <th>CPB1</th>\n",
       "      <th>CEACAM6</th>\n",
       "      <th>...</th>\n",
       "      <th>LOC641311</th>\n",
       "      <th>LOC645307</th>\n",
       "      <th>IL1RAP</th>\n",
       "      <th>LOC647149</th>\n",
       "      <th>LOC642453</th>\n",
       "      <th>LOC652100</th>\n",
       "      <th>LOC646050</th>\n",
       "      <th>LOC644912</th>\n",
       "      <th>LOC652294</th>\n",
       "      <th>label</th>\n",
       "    </tr>\n",
       "  </thead>\n",
       "  <tbody>\n",
       "    <tr>\n",
       "      <th>2080</th>\n",
       "      <td>6.365374</td>\n",
       "      <td>5.610561</td>\n",
       "      <td>5.134799</td>\n",
       "      <td>5.735802</td>\n",
       "      <td>5.855315</td>\n",
       "      <td>5.443985</td>\n",
       "      <td>8.005882</td>\n",
       "      <td>5.615179</td>\n",
       "      <td>6.682096</td>\n",
       "      <td>5.756946</td>\n",
       "      <td>...</td>\n",
       "      <td>5.409726</td>\n",
       "      <td>5.420998</td>\n",
       "      <td>5.396492</td>\n",
       "      <td>5.358751</td>\n",
       "      <td>5.424770</td>\n",
       "      <td>5.411055</td>\n",
       "      <td>5.242460</td>\n",
       "      <td>5.197767</td>\n",
       "      <td>5.643537</td>\n",
       "      <td>6</td>\n",
       "    </tr>\n",
       "    <tr>\n",
       "      <th>236</th>\n",
       "      <td>14.330442</td>\n",
       "      <td>7.979139</td>\n",
       "      <td>10.244240</td>\n",
       "      <td>7.138279</td>\n",
       "      <td>9.890661</td>\n",
       "      <td>11.195867</td>\n",
       "      <td>13.511164</td>\n",
       "      <td>10.548596</td>\n",
       "      <td>5.491578</td>\n",
       "      <td>6.805606</td>\n",
       "      <td>...</td>\n",
       "      <td>5.213895</td>\n",
       "      <td>5.167652</td>\n",
       "      <td>5.273045</td>\n",
       "      <td>5.287980</td>\n",
       "      <td>5.398061</td>\n",
       "      <td>5.226934</td>\n",
       "      <td>5.396744</td>\n",
       "      <td>5.352158</td>\n",
       "      <td>5.811813</td>\n",
       "      <td>4</td>\n",
       "    </tr>\n",
       "    <tr>\n",
       "      <th>741</th>\n",
       "      <td>14.388331</td>\n",
       "      <td>6.016715</td>\n",
       "      <td>12.164435</td>\n",
       "      <td>5.272691</td>\n",
       "      <td>6.468386</td>\n",
       "      <td>5.265518</td>\n",
       "      <td>13.386034</td>\n",
       "      <td>8.764722</td>\n",
       "      <td>7.331663</td>\n",
       "      <td>11.967719</td>\n",
       "      <td>...</td>\n",
       "      <td>5.707537</td>\n",
       "      <td>5.327874</td>\n",
       "      <td>5.549589</td>\n",
       "      <td>5.333051</td>\n",
       "      <td>5.368544</td>\n",
       "      <td>5.296182</td>\n",
       "      <td>5.694022</td>\n",
       "      <td>5.459744</td>\n",
       "      <td>5.269015</td>\n",
       "      <td>4</td>\n",
       "    </tr>\n",
       "    <tr>\n",
       "      <th>380</th>\n",
       "      <td>13.111243</td>\n",
       "      <td>7.251862</td>\n",
       "      <td>8.389121</td>\n",
       "      <td>8.664654</td>\n",
       "      <td>10.378585</td>\n",
       "      <td>5.544646</td>\n",
       "      <td>11.159766</td>\n",
       "      <td>8.263224</td>\n",
       "      <td>5.497906</td>\n",
       "      <td>5.923506</td>\n",
       "      <td>...</td>\n",
       "      <td>5.351022</td>\n",
       "      <td>5.009093</td>\n",
       "      <td>5.345468</td>\n",
       "      <td>5.176322</td>\n",
       "      <td>5.326991</td>\n",
       "      <td>5.480259</td>\n",
       "      <td>5.292691</td>\n",
       "      <td>5.242160</td>\n",
       "      <td>5.635111</td>\n",
       "      <td>5</td>\n",
       "    </tr>\n",
       "    <tr>\n",
       "      <th>1446</th>\n",
       "      <td>12.243103</td>\n",
       "      <td>7.293489</td>\n",
       "      <td>10.919581</td>\n",
       "      <td>9.566137</td>\n",
       "      <td>8.503568</td>\n",
       "      <td>11.492583</td>\n",
       "      <td>11.531352</td>\n",
       "      <td>9.818938</td>\n",
       "      <td>9.443134</td>\n",
       "      <td>6.889670</td>\n",
       "      <td>...</td>\n",
       "      <td>5.320883</td>\n",
       "      <td>5.487783</td>\n",
       "      <td>5.479967</td>\n",
       "      <td>5.332074</td>\n",
       "      <td>5.273141</td>\n",
       "      <td>5.282872</td>\n",
       "      <td>5.222482</td>\n",
       "      <td>5.186136</td>\n",
       "      <td>5.616094</td>\n",
       "      <td>3</td>\n",
       "    </tr>\n",
       "  </tbody>\n",
       "</table>\n",
       "<p>5 rows × 20001 columns</p>\n",
       "</div>"
      ],
      "text/plain": [
       "        SCGB2A2     MUCL1    SCGB1D2       PIP  LOC648852     DNAJA2  \\\n",
       "2080   6.365374  5.610561   5.134799  5.735802   5.855315   5.443985   \n",
       "236   14.330442  7.979139  10.244240  7.138279   9.890661  11.195867   \n",
       "741   14.388331  6.016715  12.164435  5.272691   6.468386   5.265518   \n",
       "380   13.111243  7.251862   8.389121  8.664654  10.378585   5.544646   \n",
       "1446  12.243103  7.293489  10.919581  9.566137   8.503568  11.492583   \n",
       "\n",
       "           TFF3      S100P      CPB1    CEACAM6  ...  LOC641311  LOC645307  \\\n",
       "2080   8.005882   5.615179  6.682096   5.756946  ...   5.409726   5.420998   \n",
       "236   13.511164  10.548596  5.491578   6.805606  ...   5.213895   5.167652   \n",
       "741   13.386034   8.764722  7.331663  11.967719  ...   5.707537   5.327874   \n",
       "380   11.159766   8.263224  5.497906   5.923506  ...   5.351022   5.009093   \n",
       "1446  11.531352   9.818938  9.443134   6.889670  ...   5.320883   5.487783   \n",
       "\n",
       "        IL1RAP  LOC647149  LOC642453  LOC652100  LOC646050  LOC644912  \\\n",
       "2080  5.396492   5.358751   5.424770   5.411055   5.242460   5.197767   \n",
       "236   5.273045   5.287980   5.398061   5.226934   5.396744   5.352158   \n",
       "741   5.549589   5.333051   5.368544   5.296182   5.694022   5.459744   \n",
       "380   5.345468   5.176322   5.326991   5.480259   5.292691   5.242160   \n",
       "1446  5.479967   5.332074   5.273141   5.282872   5.222482   5.186136   \n",
       "\n",
       "      LOC652294  label  \n",
       "2080   5.643537      6  \n",
       "236    5.811813      4  \n",
       "741    5.269015      4  \n",
       "380    5.635111      5  \n",
       "1446   5.616094      3  \n",
       "\n",
       "[5 rows x 20001 columns]"
      ]
     },
     "execution_count": 121,
     "metadata": {},
     "output_type": "execute_result"
    }
   ],
   "source": [
    "df = df.set_index(pd.Index(mat['id'][0]))\n",
    "df.head()"
   ]
  },
  {
   "cell_type": "code",
   "execution_count": 123,
   "id": "4652ffec-48d5-4de5-8c1a-b946f3ba2947",
   "metadata": {},
   "outputs": [
    {
     "name": "stderr",
     "output_type": "stream",
     "text": [
      "2023-04-30 22:34:56.052860: I tensorflow/compiler/mlir/mlir_graph_optimization_pass.cc:354] MLIR V1 optimization pass is not enabled\n"
     ]
    }
   ],
   "source": [
    "with sess.graph.as_default():\n",
    "  data = tf.constant(df.values[:,:-1], dtype=tf.float32)\n",
    "  logits_validation = ae.supervised_net(data, NUM_HIDDEN+1)\n",
    "  sess.run(tf.global_variables_initializer())\n",
    "  sess.run(logits_validation)"
   ]
  },
  {
   "cell_type": "code",
   "execution_count": 124,
   "id": "5df6573a-1c6b-48e3-9fdb-3e6e75908645",
   "metadata": {},
   "outputs": [
    {
     "data": {
      "text/plain": [
       "array([1, 1, 1, ..., 1, 1, 1])"
      ]
     },
     "execution_count": 124,
     "metadata": {},
     "output_type": "execute_result"
    }
   ],
   "source": [
    "pred = tf.argmax(logits_validation, 1).eval(session=sess)+1\n",
    "pred"
   ]
  },
  {
   "cell_type": "code",
   "execution_count": 126,
   "id": "51a551b1-2fc7-499a-ba10-23243eb1abba",
   "metadata": {},
   "outputs": [
    {
     "data": {
      "text/plain": [
       "array([1, 2, 6])"
      ]
     },
     "execution_count": 126,
     "metadata": {},
     "output_type": "execute_result"
    }
   ],
   "source": [
    "np.unique(pred)"
   ]
  },
  {
   "cell_type": "code",
   "execution_count": null,
   "id": "d742d175-f7b4-47dd-92e1-797a8d8e019c",
   "metadata": {},
   "outputs": [],
   "source": [
    "# look at these preds against those in results, are they the same?"
   ]
  },
  {
   "cell_type": "code",
   "execution_count": 127,
   "id": "0af95861-86f0-49cc-9f6c-b462086f0066",
   "metadata": {},
   "outputs": [
    {
     "name": "stdout",
     "output_type": "stream",
     "text": [
      "Accuracy: 0.19503047351148617\n"
     ]
    }
   ],
   "source": [
    "print('Accuracy:',sum(df['label'] == pred)/len(pred))"
   ]
  },
  {
   "cell_type": "code",
   "execution_count": 128,
   "id": "c292e2f7-71cf-494e-a1a7-02c3ed30d8d2",
   "metadata": {},
   "outputs": [
    {
     "name": "stdout",
     "output_type": "stream",
     "text": [
      "Accuracy for rs_01: 0.6741678\n"
     ]
    }
   ],
   "source": [
    "for key in results.keys():\n",
    "  print(\"Accuracy for %s:\"%key,results[key][1])"
   ]
  },
  {
   "cell_type": "code",
   "execution_count": 131,
   "id": "2a14c69d-5f7a-424c-bba7-acc4fbcb5ef6",
   "metadata": {},
   "outputs": [
    {
     "data": {
      "text/plain": [
       "0          SCGB2A2\n",
       "1            MUCL1\n",
       "2          SCGB1D2\n",
       "3              PIP\n",
       "4        LOC648852\n",
       "           ...    \n",
       "19995    LOC642453\n",
       "19996    LOC652100\n",
       "19997    LOC646050\n",
       "19998    LOC644912\n",
       "19999    LOC652294\n",
       "Length: 20000, dtype: object"
      ]
     },
     "execution_count": 131,
     "metadata": {},
     "output_type": "execute_result"
    }
   ],
   "source": [
    "# gene_labels = pd.read_csv('/content/drive/My Drive/DeepType_results/gene_labels.txt',header=None)[0].tolist()\n",
    "gene_labels = cols\n",
    "pd.Series(cols)"
   ]
  },
  {
   "cell_type": "code",
   "execution_count": 132,
   "id": "f7eeeab2-1044-4f74-8ff6-188fe476ebed",
   "metadata": {},
   "outputs": [
    {
     "data": {
      "text/plain": [
       "SCGB2A2      0.104677\n",
       "MUCL1        0.065927\n",
       "SCGB1D2      0.113932\n",
       "PIP          0.109027\n",
       "LOC648852    0.596426\n",
       "               ...   \n",
       "LOC642453    0.018213\n",
       "LOC652100    0.020264\n",
       "LOC646050    0.020783\n",
       "LOC644912    0.018602\n",
       "LOC652294    0.017639\n",
       "Length: 20000, dtype: float32"
      ]
     },
     "execution_count": 132,
     "metadata": {},
     "output_type": "execute_result"
    }
   ],
   "source": [
    "L2 = {}\n",
    "for alpha in results.keys():\n",
    "  L2[alpha] = pd.Series(np.sqrt(np.sum(results[alpha][0]['w_1']**2,axis=1)),index=gene_labels)\n",
    "L2[alpha]"
   ]
  },
  {
   "cell_type": "code",
   "execution_count": 142,
   "id": "1f254488-bfb6-430f-882d-e98974f87d8f",
   "metadata": {},
   "outputs": [
    {
     "data": {
      "text/plain": [
       "MYL2      0.002842\n",
       "MYL1      0.002891\n",
       "TAGLN3    0.002897\n",
       "SPANXE    0.003047\n",
       "LCE2B     0.003064\n",
       "            ...   \n",
       "GABRP     1.111665\n",
       "ESR1      1.280077\n",
       "KRT14     1.320521\n",
       "SFRP1     1.374987\n",
       "KRT17     1.433328\n",
       "Length: 20000, dtype: float32"
      ]
     },
     "execution_count": 142,
     "metadata": {},
     "output_type": "execute_result"
    }
   ],
   "source": [
    "L2[alpha].sort_values()"
   ]
  },
  {
   "cell_type": "code",
   "execution_count": 143,
   "id": "c95bbf66-f0e4-46dd-87fc-52572b12111b",
   "metadata": {},
   "outputs": [
    {
     "data": {
      "text/plain": [
       "{'rs_01': SCGB2A2      0.104677\n",
       " MUCL1        0.065927\n",
       " SCGB1D2      0.113932\n",
       " PIP          0.109027\n",
       " LOC648852    0.596426\n",
       "                ...   \n",
       " LOC642453    0.018213\n",
       " LOC652100    0.020264\n",
       " LOC646050    0.020783\n",
       " LOC644912    0.018602\n",
       " LOC652294    0.017639\n",
       " Length: 20000, dtype: float32}"
      ]
     },
     "execution_count": 143,
     "metadata": {},
     "output_type": "execute_result"
    }
   ],
   "source": [
    "L2"
   ]
  },
  {
   "cell_type": "code",
   "execution_count": 133,
   "id": "8846306b-9f57-4224-bc31-474c7d19fe63",
   "metadata": {},
   "outputs": [],
   "source": [
    "def apply_thres(l2,thres = 0.1):\n",
    "  l2 = l2.loc[l2 > thres]\n",
    "  return l2"
   ]
  },
  {
   "cell_type": "code",
   "execution_count": 134,
   "id": "b41788f1-c1cb-4ef3-8252-7cfe0076e0e7",
   "metadata": {},
   "outputs": [],
   "source": [
    "L2_thres = {}\n",
    "for alpha in results.keys():\n",
    "  L2_thres[alpha] = apply_thres(L2[alpha])"
   ]
  },
  {
   "cell_type": "code",
   "execution_count": 135,
   "id": "40a6b822-0aea-4aa8-bd03-46e0cf9cf512",
   "metadata": {},
   "outputs": [
    {
     "data": {
      "text/plain": [
       "SCGB2A2      0.104677\n",
       "SCGB1D2      0.113932\n",
       "PIP          0.109027\n",
       "LOC648852    0.596426\n",
       "TFF3         0.503756\n",
       "               ...   \n",
       "FAM62C       0.103613\n",
       "ACTR3B       0.113537\n",
       "LOC653110    0.114811\n",
       "GPR125       0.118789\n",
       "GPR109B      0.100625\n",
       "Length: 517, dtype: float32"
      ]
     },
     "execution_count": 135,
     "metadata": {},
     "output_type": "execute_result"
    }
   ],
   "source": [
    "L2_thres[alpha]"
   ]
  },
  {
   "cell_type": "code",
   "execution_count": 136,
   "id": "8ecbee2a-4fa4-45ae-a077-971d61c93f73",
   "metadata": {},
   "outputs": [
    {
     "name": "stdout",
     "output_type": "stream",
     "text": [
      "Number of genes alpha=rs_01: 517\n"
     ]
    }
   ],
   "source": [
    "sets = {}\n",
    "for alpha in results.keys():\n",
    "  sets[alpha] = set(L2_thres[alpha].index)\n",
    "  print(\"Number of genes alpha=%s:\"%alpha,len(sets[alpha]))"
   ]
  },
  {
   "cell_type": "code",
   "execution_count": 138,
   "id": "d0210f27-aa02-42a9-a89f-ff458d2c3363",
   "metadata": {},
   "outputs": [
    {
     "name": "stdout",
     "output_type": "stream",
     "text": [
      "Defaulting to user installation because normal site-packages is not writeable\n",
      "Collecting matplotlib-venn\n",
      "  Downloading matplotlib-venn-0.11.9.tar.gz (30 kB)\n",
      "  Installing build dependencies ... \u001b[?25ldone\n",
      "\u001b[?25h  Getting requirements to build wheel ... \u001b[?25ldone\n",
      "\u001b[?25h  Installing backend dependencies ... \u001b[?25ldone\n",
      "\u001b[?25h  Preparing metadata (pyproject.toml) ... \u001b[?25ldone\n",
      "\u001b[?25hRequirement already satisfied: numpy in /opt/tljh/user/lib/python3.9/site-packages (from matplotlib-venn) (1.23.0)\n",
      "Requirement already satisfied: matplotlib in /home/jupyter-ajakusov/.local/lib/python3.9/site-packages (from matplotlib-venn) (3.7.1)\n",
      "Requirement already satisfied: scipy in /home/jupyter-ajakusov/.local/lib/python3.9/site-packages (from matplotlib-venn) (1.10.1)\n",
      "Requirement already satisfied: contourpy>=1.0.1 in /home/jupyter-ajakusov/.local/lib/python3.9/site-packages (from matplotlib->matplotlib-venn) (1.0.7)\n",
      "Requirement already satisfied: kiwisolver>=1.0.1 in /opt/tljh/user/lib/python3.9/site-packages (from matplotlib->matplotlib-venn) (1.4.2)\n",
      "Requirement already satisfied: python-dateutil>=2.7 in /opt/tljh/user/lib/python3.9/site-packages (from matplotlib->matplotlib-venn) (2.8.2)\n",
      "Requirement already satisfied: packaging>=20.0 in /opt/tljh/user/lib/python3.9/site-packages (from matplotlib->matplotlib-venn) (21.3)\n",
      "Requirement already satisfied: fonttools>=4.22.0 in /opt/tljh/user/lib/python3.9/site-packages (from matplotlib->matplotlib-venn) (4.33.3)\n",
      "Requirement already satisfied: importlib-resources>=3.2.0 in /opt/tljh/user/lib/python3.9/site-packages (from matplotlib->matplotlib-venn) (5.7.1)\n",
      "Requirement already satisfied: cycler>=0.10 in /opt/tljh/user/lib/python3.9/site-packages (from matplotlib->matplotlib-venn) (0.11.0)\n",
      "Requirement already satisfied: pyparsing>=2.3.1 in /opt/tljh/user/lib/python3.9/site-packages (from matplotlib->matplotlib-venn) (3.0.8)\n",
      "Requirement already satisfied: pillow>=6.2.0 in /opt/tljh/user/lib/python3.9/site-packages (from matplotlib->matplotlib-venn) (9.1.0)\n",
      "Requirement already satisfied: zipp>=3.1.0 in /opt/tljh/user/lib/python3.9/site-packages (from importlib-resources>=3.2.0->matplotlib->matplotlib-venn) (3.8.0)\n",
      "Requirement already satisfied: six>=1.5 in /opt/tljh/user/lib/python3.9/site-packages (from python-dateutil>=2.7->matplotlib->matplotlib-venn) (1.16.0)\n",
      "Building wheels for collected packages: matplotlib-venn\n",
      "  Building wheel for matplotlib-venn (pyproject.toml) ... \u001b[?25ldone\n",
      "\u001b[?25h  Created wheel for matplotlib-venn: filename=matplotlib_venn-0.11.9-py3-none-any.whl size=32999 sha256=e400aea5a9266027ef40945200802e749ec628d1ae0710f09aed199c8d318e82\n",
      "  Stored in directory: /home/jupyter-ajakusov/.cache/pip/wheels/25/de/d4/29dfc5d4520b956df7bc54a8464ad053042918bc525e88bf66\n",
      "Successfully built matplotlib-venn\n",
      "Installing collected packages: matplotlib-venn\n",
      "Successfully installed matplotlib-venn-0.11.9\n",
      "\n",
      "\u001b[1m[\u001b[0m\u001b[34;49mnotice\u001b[0m\u001b[1;39;49m]\u001b[0m\u001b[39;49m A new release of pip available: \u001b[0m\u001b[31;49m22.2.2\u001b[0m\u001b[39;49m -> \u001b[0m\u001b[32;49m23.1.2\u001b[0m\n",
      "\u001b[1m[\u001b[0m\u001b[34;49mnotice\u001b[0m\u001b[1;39;49m]\u001b[0m\u001b[39;49m To update, run: \u001b[0m\u001b[32;49mpip install --upgrade pip\u001b[0m\n"
     ]
    }
   ],
   "source": [
    "!pip install matplotlib-venn"
   ]
  },
  {
   "cell_type": "code",
   "execution_count": 139,
   "id": "88f53c9c-9d28-4e3a-9ab1-ad439434b9a9",
   "metadata": {},
   "outputs": [
    {
     "ename": "TypeError",
     "evalue": "bad operand type for abs(): 'dict_values'",
     "output_type": "error",
     "traceback": [
      "\u001b[0;31m---------------------------------------------------------------------------\u001b[0m",
      "\u001b[0;31mTypeError\u001b[0m                                 Traceback (most recent call last)",
      "Input \u001b[0;32mIn [139]\u001b[0m, in \u001b[0;36m<cell line: 3>\u001b[0;34m()\u001b[0m\n\u001b[1;32m      1\u001b[0m \u001b[38;5;28;01mfrom\u001b[39;00m \u001b[38;5;21;01mmatplotlib_venn\u001b[39;00m \u001b[38;5;28;01mimport\u001b[39;00m venn3\n\u001b[0;32m----> 3\u001b[0m \u001b[43mvenn3\u001b[49m\u001b[43m(\u001b[49m\u001b[43msets\u001b[49m\u001b[38;5;241;43m.\u001b[39;49m\u001b[43mvalues\u001b[49m\u001b[43m(\u001b[49m\u001b[43m)\u001b[49m\u001b[43m,\u001b[49m\u001b[43mset_labels\u001b[49m\u001b[38;5;241;43m=\u001b[39;49m\u001b[43msets\u001b[49m\u001b[38;5;241;43m.\u001b[39;49m\u001b[43mkeys\u001b[49m\u001b[43m(\u001b[49m\u001b[43m)\u001b[49m\u001b[43m)\u001b[49m\n",
      "File \u001b[0;32m~/.local/lib/python3.9/site-packages/matplotlib_venn/_venn3.py:350\u001b[0m, in \u001b[0;36mvenn3\u001b[0;34m(subsets, set_labels, set_colors, alpha, normalize_to, ax, subset_label_formatter)\u001b[0m\n\u001b[1;32m    347\u001b[0m \u001b[38;5;28;01mif\u001b[39;00m subset_label_formatter \u001b[38;5;129;01mis\u001b[39;00m \u001b[38;5;28;01mNone\u001b[39;00m:\n\u001b[1;32m    348\u001b[0m     subset_label_formatter \u001b[38;5;241m=\u001b[39m \u001b[38;5;28mstr\u001b[39m\n\u001b[0;32m--> 350\u001b[0m areas \u001b[38;5;241m=\u001b[39m \u001b[43mcompute_venn3_areas\u001b[49m\u001b[43m(\u001b[49m\u001b[43msubsets\u001b[49m\u001b[43m,\u001b[49m\u001b[43m \u001b[49m\u001b[43mnormalize_to\u001b[49m\u001b[43m)\u001b[49m\n\u001b[1;32m    351\u001b[0m centers, radii \u001b[38;5;241m=\u001b[39m solve_venn3_circles(areas)\n\u001b[1;32m    352\u001b[0m regions \u001b[38;5;241m=\u001b[39m compute_venn3_regions(centers, radii)\n",
      "File \u001b[0;32m~/.local/lib/python3.9/site-packages/matplotlib_venn/_venn3.py:44\u001b[0m, in \u001b[0;36mcompute_venn3_areas\u001b[0;34m(diagram_areas, normalize_to, _minimal_area)\u001b[0m\n\u001b[1;32m     25\u001b[0m \u001b[38;5;250m\u001b[39m\u001b[38;5;124;03m'''\u001b[39;00m\n\u001b[1;32m     26\u001b[0m \u001b[38;5;124;03mThe list of venn areas is given as 7 values, corresponding to venn diagram areas in the following order:\u001b[39;00m\n\u001b[1;32m     27\u001b[0m \u001b[38;5;124;03m (Abc, aBc, ABc, abC, AbC, aBC, ABC)\u001b[39;00m\n\u001b[0;32m   (...)\u001b[0m\n\u001b[1;32m     41\u001b[0m \u001b[38;5;124;03m(16.0, 18.0, 22.0, 10.0, 13.0, 12.0, 7.0)\u001b[39;00m\n\u001b[1;32m     42\u001b[0m \u001b[38;5;124;03m'''\u001b[39;00m\n\u001b[1;32m     43\u001b[0m \u001b[38;5;66;03m# Normalize input values to sum to 1\u001b[39;00m\n\u001b[0;32m---> 44\u001b[0m areas \u001b[38;5;241m=\u001b[39m np\u001b[38;5;241m.\u001b[39marray(\u001b[43mnp\u001b[49m\u001b[38;5;241;43m.\u001b[39;49m\u001b[43mabs\u001b[49m\u001b[43m(\u001b[49m\u001b[43mdiagram_areas\u001b[49m\u001b[43m)\u001b[49m, \u001b[38;5;28mfloat\u001b[39m)\n\u001b[1;32m     45\u001b[0m total_area \u001b[38;5;241m=\u001b[39m np\u001b[38;5;241m.\u001b[39msum(areas)\n\u001b[1;32m     46\u001b[0m \u001b[38;5;28;01mif\u001b[39;00m np\u001b[38;5;241m.\u001b[39mabs(total_area) \u001b[38;5;241m<\u001b[39m _minimal_area:\n",
      "\u001b[0;31mTypeError\u001b[0m: bad operand type for abs(): 'dict_values'"
     ]
    }
   ],
   "source": [
    "from matplotlib_venn import venn3\n",
    "\n",
    "venn3(sets.values(),set_labels=sets.keys());"
   ]
  },
  {
   "cell_type": "code",
   "execution_count": null,
   "id": "5b2775ab-ae9d-4f47-a59e-e0ecfff7e82d",
   "metadata": {},
   "outputs": [],
   "source": []
  }
 ],
 "metadata": {
  "kernelspec": {
   "display_name": "Python 3 (ipykernel)",
   "language": "python",
   "name": "python3"
  },
  "language_info": {
   "codemirror_mode": {
    "name": "ipython",
    "version": 3
   },
   "file_extension": ".py",
   "mimetype": "text/x-python",
   "name": "python",
   "nbconvert_exporter": "python",
   "pygments_lexer": "ipython3",
   "version": "3.9.7"
  }
 },
 "nbformat": 4,
 "nbformat_minor": 5
}
